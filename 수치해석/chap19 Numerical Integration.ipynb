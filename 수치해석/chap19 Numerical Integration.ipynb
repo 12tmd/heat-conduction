{
 "cells": [
  {
   "cell_type": "markdown",
   "metadata": {},
   "source": [
    "## Chapter 19 Numerical Integration\n",
    "\n",
    "수치적분(또는 구적법 quadrature)은 정적분(definite integral) $\\int_a^b f(x) dx$ 을 합(sum), $I = \\sum_{i=1}^n A_i f(x_i)$로 바꾸어 근사한다. 여기서 마디(node) $x_i$ 와 가중치(weight) $A_i$는 어떤 보간 다항식을 사용하는지에 따라 달라진다."
   ]
  },
  {
   "cell_type": "markdown",
   "metadata": {},
   "source": [
    "## Newton-form of polynomial \n",
    "\n",
    "$$\n",
    "\\begin{bmatrix}\n",
    "x_0  & f_0 & & & \\\\\n",
    "x_1  & f_1 & f_{01}& &  \\\\ \n",
    "x_2  & f_2 & f_{12}& f_{012}&  \\\\\n",
    "x_3  & f_3 & f_{23}& f_{123}& f_{0123}  \\\\\n",
    "\\end{bmatrix}\n",
    "$$\n",
    "\n",
    "$$\n",
    "\\begin{align}\n",
    "f_{01} &= \\frac{f_1 - f_0}{x_1 - x_0}  & & &  \\\\ \n",
    "f_{12} &= \\frac{f_2 - f_1}{x_2 - x_1}  &f_{012} = \\frac{f_{12} - f_{01}}{x_2 - x_0}&&\\\\ \n",
    "f_{23} &= \\frac{f_3 - f_2}{x_3 - x_2}  &f_{123} = \\frac{f_{23} - f_{12}}{x_3 - x_1}& &f_{0123} = \\frac{f_{123} - f_{012}}{x_3 - x_0}\\\\ \n",
    "\\end{align}\n",
    "$$\n",
    "\n",
    "$$\n",
    "\\begin{align}\n",
    "p_1(x) & = f_0 + f_{01} (x-x_0) \\\\\n",
    "p_2(x) & = f_0 + f_{01} (x-x_0) + f_{012}(x-x_0)(x-x_1) \\\\\n",
    "p_3(x) & = f_0 + f_{01} (x-x_0) + f_{012}(x-x_0)(x-x_1) +  f_{0123}(x-x_0)(x-x_1)(x-x_2) \\\\\n",
    "\\end{align}\n",
    "$$"
   ]
  },
  {
   "cell_type": "code",
   "execution_count": 16,
   "metadata": {},
   "outputs": [
    {
     "data": {
      "text/plain": [
       "(f0,\n",
       " (-f0 + f1)/h,\n",
       " (f0 - 2*f1 + f2)/(2*h**2),\n",
       " (-f0 + 3*f1 - 3*f2 + f3)/(6*h**3))"
      ]
     },
     "execution_count": 16,
     "metadata": {},
     "output_type": "execute_result"
    }
   ],
   "source": [
    "from sympy import *\n",
    "h, x0, x = symbols(\"h x0 x\")\n",
    "f0,f1,f2, f3 = symbols(\"f0 f1 f2 f3\")\n",
    "\n",
    "x1 = x0 + h\n",
    "x2 = x1 + h\n",
    "x3 = x2 + h\n",
    "\n",
    "f01 = (f1 - f0)/(x1 - x0)\n",
    "f12 = (f2 - f1)/(x2 - x1)\n",
    "f23 = (f3 - f2)/(x3 - x2)\n",
    "f012 = (f12 - f01)/(x2 - x0)\n",
    "f123 = (f23 - f12)/(x3 - x1)\n",
    "\n",
    "f0123 = (f123 - f012)/(x3 - x0)\n",
    "f0, simplify(f01), simplify(f012), simplify(f0123)"
   ]
  },
  {
   "cell_type": "code",
   "execution_count": 17,
   "metadata": {},
   "outputs": [],
   "source": [
    "p1 = f0 + f01*(x - x0)\n",
    "p2 = p1 + f012*(x - x0)*(x - x1)\n",
    "p3 = p2 + f0123*(x - x0)*(x - x1)*(x - x2)"
   ]
  },
  {
   "cell_type": "code",
   "execution_count": 18,
   "metadata": {},
   "outputs": [
    {
     "data": {
      "text/latex": [
       "$\\displaystyle \\frac{h \\left(f_{0} + f_{1}\\right)}{2}$"
      ],
      "text/plain": [
       "h*(f0 + f1)/2"
      ]
     },
     "execution_count": 18,
     "metadata": {},
     "output_type": "execute_result"
    }
   ],
   "source": [
    "# trapezoidal rule\n",
    "I1 = simplify(integrate(p1, (x, x0, x1)))\n",
    "I1"
   ]
  },
  {
   "cell_type": "code",
   "execution_count": 19,
   "metadata": {},
   "outputs": [
    {
     "data": {
      "text/latex": [
       "$\\displaystyle \\frac{h \\left(f_{0} + 4 f_{1} + f_{2}\\right)}{3}$"
      ],
      "text/plain": [
       "h*(f0 + 4*f1 + f2)/3"
      ]
     },
     "execution_count": 19,
     "metadata": {},
     "output_type": "execute_result"
    }
   ],
   "source": [
    "# simpson 1/3 rule\n",
    "I2 = simplify(integrate(p2, (x, x0, x2)))\n",
    "I2"
   ]
  },
  {
   "cell_type": "code",
   "execution_count": 20,
   "metadata": {
    "scrolled": true
   },
   "outputs": [
    {
     "data": {
      "text/latex": [
       "$\\displaystyle \\frac{3 h \\left(f_{0} + 3 f_{1} + 3 f_{2} + f_{3}\\right)}{8}$"
      ],
      "text/plain": [
       "3*h*(f0 + 3*f1 + 3*f2 + f3)/8"
      ]
     },
     "execution_count": 20,
     "metadata": {},
     "output_type": "execute_result"
    }
   ],
   "source": [
    "# simpson 3/8 rule\n",
    "I3 = simplify(integrate(p3, (x, x0, x3)))\n",
    "I3"
   ]
  },
  {
   "cell_type": "code",
   "execution_count": 7,
   "metadata": {},
   "outputs": [],
   "source": [
    "# derivative\n",
    "# forward\n",
    "F11 = simplify( diff(p1, x).subs(x, x0) )\n",
    "F12 = simplify( diff(p2, x).subs(x, x0) )  # O(h2), first\n",
    "F13 = simplify( diff(p3, x).subs(x, x0) )\n",
    "\n",
    "# backward\n",
    "B11 = simplify( diff(p1, x).subs(x, x1) )\n",
    "B12 = simplify( diff(p2, x).subs(x, x2) )  # O(h2), first\n",
    "B13 = simplify( diff(p3, x).subs(x, x3) )\n",
    "\n",
    "# central\n",
    "C1 = simplify( diff(p2, x).subs(x, x1) )  # O(h2), first\n",
    "C2 = simplify( diff(p2, x, x).subs(x, x1) )  # O(h2), second"
   ]
  },
  {
   "cell_type": "code",
   "execution_count": 15,
   "metadata": {},
   "outputs": [
    {
     "data": {
      "text/latex": [
       "$\\displaystyle \\frac{f_{0} - 2 f_{1} + f_{2}}{h^{2}}$"
      ],
      "text/plain": [
       "(f0 - 2*f1 + f2)/h**2"
      ]
     },
     "execution_count": 15,
     "metadata": {},
     "output_type": "execute_result"
    }
   ],
   "source": [
    "C2"
   ]
  },
  {
   "cell_type": "code",
   "execution_count": 21,
   "metadata": {},
   "outputs": [],
   "source": [
    "import numpy as np\n",
    "import matplotlib.pyplot as plt"
   ]
  },
  {
   "cell_type": "code",
   "execution_count": 24,
   "metadata": {},
   "outputs": [],
   "source": [
    "def trapz(f, h):\n",
    "    return h/2*(f[0] + f[-1] + 2*np.sum(f[1:-1]))\n",
    "\n",
    "def cumtrapz(f, h):\n",
    "    return np.cumsum(np.r_[0, (f[:-1] + f[1:])*h/2])"
   ]
  },
  {
   "cell_type": "markdown",
   "metadata": {},
   "source": [
    "### Example 19.1\n",
    "$$f(x) = 400 x^5 -900 x^4 + 675 x^3 -200 x^2 + 25 x + 0.2$$\n",
    "$$ J = \\int_0^{0.8} f(x) dx $$"
   ]
  },
  {
   "cell_type": "code",
   "execution_count": 30,
   "metadata": {},
   "outputs": [
    {
     "name": "stdout",
     "output_type": "stream",
     "text": [
      "1.6405333333333332 1.6341401599999998\n"
     ]
    },
    {
     "data": {
      "image/png": "[encoded data removed]",
      "text/plain": [
       "<Figure size 432x288 with 1 Axes>"
      ]
     },
     "metadata": {
      "needs_background": "light"
     },
     "output_type": "display_data"
    }
   ],
   "source": [
    "p = [400, -900, 675, -200, 25, 0.2]\n",
    "a, b = 0, 0.8\n",
    "\n",
    "# exact \n",
    "p1 = np.polyint(p)\n",
    "Je = np.polyval(p1, b) - np.polyval(p1, a)\n",
    "\n",
    "# numerical\n",
    "n = 21\n",
    "h = (b-a)/(n-1)\n",
    "x = np.linspace(a, b, n)\n",
    "y = np.polyval(p, x)\n",
    "plt.plot(x, y, '.-')\n",
    "J = trapz(y, h)\n",
    "print(Je, J)"
   ]
  },
  {
   "cell_type": "markdown",
   "metadata": {},
   "source": [
    "### Example 19.2"
   ]
  },
  {
   "cell_type": "code",
   "execution_count": 31,
   "metadata": {},
   "outputs": [
    {
     "name": "stdout",
     "output_type": "stream",
     "text": [
      "1.6405333333333332\n",
      "    1    2    2.29333e-02   -5.71733e-01\n",
      "    2    4    1.38667e-01   -1.55733e-01\n",
      "    3    8    3.86667e-02   -3.97333e-02\n",
      "    4   16    9.91667e-03   -9.98333e-03\n",
      "    5   32    2.49479e-03   -2.49896e-03\n",
      "    6   64    6.24674e-04   -6.24935e-04\n",
      "    7  128    1.56230e-04   -1.56246e-04\n"
     ]
    }
   ],
   "source": [
    "p = [400, -900, 675, -200, 25, 0.2]\n",
    "\n",
    "a, b = 0, 0.8\n",
    "# exact \n",
    "p1 = np.polyint(p)\n",
    "Je = np.polyval(p1, b) - np.polyval(p1, a)\n",
    "print(Je)\n",
    "\n",
    "J = 1\n",
    "h = b - a\n",
    "for k in range(1, 8):\n",
    "    Jold = J\n",
    "    n = 2**k\n",
    "    h = h/2\n",
    "    x = np.linspace(a, b, n+1)\n",
    "    y = np.polyval(p, x)\n",
    "    J = trapz(y, h)\n",
    "    JJ = J + (J-Jold)/3\n",
    "    print(\"{:5d}{:5d}{:15.5e}{:15.5e}\".format(k, n, (J-Jold)/3, J - Je))    "
   ]
  },
  {
   "cell_type": "markdown",
   "metadata": {},
   "source": [
    "### Blasius equation\n",
    "In physics and fluid mechanics, a Blasius boundary layer (named after Paul Richard Heinrich Blasius) describes the steady two-dimensional laminar boundary layer that forms on a semi-infinite plate which is held parallel to a constant unidirectional flow.\n",
    "\n",
    "$$ f''' + \\frac{1}{2} f f'' = 0 $$\n",
    "\n",
    "$$ f = f' = 0 \\quad  \\mbox{at} \\quad x = 0 $$\n",
    "$$ f' \\rightarrow 1 \\quad \\mbox{as} \\quad x \\rightarrow \\infty $$\n",
    "\n",
    "Let $p = df/dx$, and $q = dp/dx = d^2f/dx^2$ then the given equation becomes \n",
    "\n",
    "$$\\frac{dq}{dx} = -q \\frac{f}{2} $$ \n",
    "\n",
    "변수 분리 후 적분\n",
    "\n",
    "$$\\ln q = \\int_0^x -\\frac{f}{2} dx + C_1$$\n",
    "$$q = \\frac{dp}{dx} = C \\exp \\left( \\int_0^x - \\frac{f}{2} dx \\right ) $$\n",
    "$$p = C\\int_0^x \\exp \\left( \\int_0^x - \\frac{f}{2} dx \\right ) dx$$\n",
    "\n",
    "$$\\frac{1}{C} = \\int_0^\\infty \\exp \\left( \\int_0^x - \\frac{f}{2} dx \\right ) dx $$\n",
    "\n",
    "\n"
   ]
  },
  {
   "cell_type": "code",
   "execution_count": 26,
   "metadata": {
    "scrolled": true
   },
   "outputs": [
    {
     "name": "stdout",
     "output_type": "stream",
     "text": [
      "0.3322861467689045 12\n"
     ]
    },
    {
     "data": {
      "image/png": "[encoded data removed]",
      "text/plain": [
       "<Figure size 432x288 with 1 Axes>"
      ]
     },
     "metadata": {},
     "output_type": "display_data"
    }
   ],
   "source": [
    "n = 51\n",
    "x = np.linspace(0, 10, n)\n",
    "h = 10/(n-1)\n",
    "p = x / 10\n",
    "for k in range(50):\n",
    "    pold = p.copy()\n",
    "    f = cumtrapz(p, h)\n",
    "    q = np.exp(cumtrapz(-f/2, h))\n",
    "    p = cumtrapz(q, h)\n",
    "    C = 1/p[-1]\n",
    "    p = C*p\n",
    "    q = C*q\n",
    "    if np.linalg.norm(p - pold) < 1e-6: \n",
    "        break\n",
    "plt.plot(x, p,'r', x, q)\n",
    "print(C, k)"
   ]
  },
  {
   "cell_type": "code",
   "execution_count": 17,
   "metadata": {},
   "outputs": [],
   "source": [
    "def simps(f, h):\n",
    "    \n",
    "    def _sim13(f, h):\n",
    "        \"\"\" n = len(f) must be odd \"\"\"\n",
    "        f0, f1 = f[::2], f[1::2]\n",
    "        return np.sum(h/3*(f0[:-1] + 4*f1 + f0[1:]))\n",
    "    \n",
    "    n = len(f)\n",
    "    if n % 2 == 1:\n",
    "        return _sim13(f, h)\n",
    "    else:\n",
    "        s = _sim13(f[:n-3], h)\n",
    "        f0, f1, f2, f3 = f[-4:]\n",
    "        return s + 3*h*(f0 + 3*f1 + 3*f2 + f3)/8\n",
    "\n",
    "\n",
    "def cumsimps(f, h):\n",
    "    \n",
    "    def _cum13(f, h):\n",
    "        \"\"\" n = len(f) must be odd \"\"\"\n",
    "        f0, f1, f2 = f[0:-1:2], f[1::2], f[2::2]\n",
    "        s1 = h*(5*f0 + 8*f1 - f2)/12\n",
    "        s2 = h*(-f0 + 8*f1 + 5*f2)/12\n",
    "        return np.cumsum(np.r_[0, np.c_[s1, s2].ravel()])\n",
    "    \n",
    "    n = len(f)\n",
    "    s = np.zeros(n)\n",
    "    if n % 2 == 1:\n",
    "        return _cum13(f, h)\n",
    "    else:\n",
    "        s[:n-3] = _cum13(f[:n-3], h)\n",
    "        f0, f1, f2, f3 = f[-4:]\n",
    "        s1 = h*(9*f0 + 19*f1 - 5*f2 + f3)/24\n",
    "        s2 = h*(-f0 + 13*f1 + 13*f2 - f3)/24\n",
    "        s3 = h*(f0 - 5*f1 + 19*f2 + 9*f3)/24\n",
    "        s[-3:] = s[-4] + np.cumsum([s1, s2, s3])\n",
    "        return s"
   ]
  },
  {
   "cell_type": "markdown",
   "metadata": {},
   "source": [
    "### error function\n",
    "$$ \\rm{erf}(x) = \\frac{2}{\\sqrt{\\pi}} \\int_0^x e^{-\\xi^2} d\\xi $$"
   ]
  },
  {
   "cell_type": "code",
   "execution_count": 27,
   "metadata": {},
   "outputs": [
    {
     "name": "stdout",
     "output_type": "stream",
     "text": [
      "    1    2    1.50000e+00   -1.97858e-01   -1.31920e-02\n",
      "    2    4    7.50000e-01   -8.30977e-03    1.26366e-02\n",
      "    3    8    3.75000e-01   -1.95183e-06    5.53855e-04\n",
      "    4   16    1.87500e-01   -1.57436e-07    1.19626e-07\n",
      "    5   32    9.37500e-02   -1.05206e-08    9.79438e-09\n",
      "    6   64    4.68750e-02   -6.68591e-10    6.56803e-10\n"
     ]
    },
    {
     "data": {
      "image/png": "[encoded data removed]",
      "text/plain": [
       "<Figure size 432x288 with 1 Axes>"
      ]
     },
     "metadata": {},
     "output_type": "display_data"
    }
   ],
   "source": [
    "from scipy.special import erf\n",
    "\n",
    "def fun(x): \n",
    "    return 2/np.sqrt(np.pi)*np.exp(-x**2)\n",
    "\n",
    "a, b = 0, 3\n",
    "x = np.linspace(a, b)\n",
    "plt.plot(x, fun(x), x, erf(x))\n",
    "\n",
    "J = 1.0\n",
    "for k in range(1, 7):\n",
    "    n = 2**k\n",
    "    Jold = J\n",
    "    x = np.linspace(a, b, n+1)    \n",
    "    h = (b-a)/n\n",
    "    J = simps(fun(x), h)\n",
    "    print(\"{:5d}{:5d}{:15.5e}{:15.5e}{:15.5e}\"\n",
    "      .format(k, n, h, J - erf(b), (J - Jold)/15))"
   ]
  },
  {
   "cell_type": "markdown",
   "metadata": {},
   "source": [
    "### 다중적분 (Multiple Integral)\n",
    "$$ \\int_{x_1}^{x_2} \\int_{y_1}^{y_2} f(x,y) dy dx  $$"
   ]
  },
  {
   "cell_type": "code",
   "execution_count": 28,
   "metadata": {},
   "outputs": [],
   "source": [
    "def trapz2(fun, x1, x2, y1, y2, nx=11, ny=11):\n",
    "    x, y = np.linspace(x1,x2,nx), np.linspace(y1,y2,ny)    \n",
    "    hx, hy = (x2-x1)/(nx-1), (y2-y1)/(ny-1)\n",
    "    wx = np.r_[1, (nx-2)*[2], 1]\n",
    "    wy = np.r_[1, (ny-2)*[2], 1]\n",
    "    w = wx*wy[:,np.newaxis]\n",
    "    f = fun(x, y[:,np.newaxis])    \n",
    "    return np.sum(f*w)*(hx/2*hy/2)\n",
    "\n",
    "def simps2(fun, x1, x2, y1, y2, nx=11, ny=11):\n",
    "    x, y = np.linspace(x1, x2, nx), np.linspace(y1, y2, ny)\n",
    "    hx, hy = (x2-x1)/(nx-1), (y2-y1)/(ny-1)\n",
    "    wx = np.r_[1, (nx-3)//2*[4,2], 4, 1]\n",
    "    wy = np.r_[1, (ny-3)//2*[4,2], 4, 1]\n",
    "    w = wx*wy[:,np.newaxis]\n",
    "    f = fun(x, y[:,np.newaxis])\n",
    "    return np.sum(f*w)*(hx/3*hy/3)"
   ]
  },
  {
   "cell_type": "code",
   "execution_count": 29,
   "metadata": {},
   "outputs": [
    {
     "name": "stdout",
     "output_type": "stream",
     "text": [
      "2815.5647999999997 2816.0\n"
     ]
    }
   ],
   "source": [
    "def fun(x, y):\n",
    "    return 2*x*y + 2*x - x**2 - 2*y**2 + 72\n",
    "x1,x2 = 0, 8\n",
    "y1,y2 = 0, 6\n",
    "J1 = trapz2(fun, x1,x2, y1,y2, nx=51, ny=51)\n",
    "J2 = simps2(fun, x1,x2, y1,y2)\n",
    "print(J1, J2)"
   ]
  },
  {
   "cell_type": "markdown",
   "metadata": {},
   "source": [
    "## Line integral\n",
    "\n",
    "$$ \\mathbf{r}(t) = x(t) \\hat{i} + y(t) \\hat{j} + z(t) \\hat{k} $$ \n",
    "\n",
    "$$ \\int_C \\mathbf{F}(\\mathbf{r}) \\cdot d \\mathbf{r} = \\int_C \\mathbf{F}(\\mathbf{r}(t)) \\cdot \\frac{d \\mathbf{r}}{dt} dt$$"
   ]
  },
  {
   "cell_type": "code",
   "execution_count": 30,
   "metadata": {},
   "outputs": [],
   "source": [
    "from scipy.integrate import trapz\n",
    "\n",
    "def line_integral(F_fun, r_fun, t):    \n",
    "    r = r_fun(t)\n",
    "    F = F_fun(r)\n",
    "    dr = np.gradient(r, t, axis=1)\n",
    "    f = np.diag(F.T @ dr)\n",
    "    return trapz(f, t)"
   ]
  },
  {
   "cell_type": "code",
   "execution_count": 31,
   "metadata": {},
   "outputs": [
    {
     "name": "stdout",
     "output_type": "stream",
     "text": [
      "0.45206680129466137\n"
     ]
    }
   ],
   "source": [
    "# kreysig p. 466, example 1\n",
    "def F_fun(r):\n",
    "    x, y = r\n",
    "    return np.array([-y, -x*y])\n",
    "def r_fun(t): return np.array([np.cos(t), np.sin(t)])\n",
    "\n",
    "t = np.linspace(0, np.pi/2, 101)\n",
    "sol = line_integral(F_fun, r_fun, t)    \n",
    "print(sol)"
   ]
  },
  {
   "cell_type": "code",
   "execution_count": 32,
   "metadata": {},
   "outputs": [
    {
     "name": "stdout",
     "output_type": "stream",
     "text": [
      "21.982546382809154\n"
     ]
    }
   ],
   "source": [
    "# kreysig p. 466, example 2\n",
    "def F_fun(r):\n",
    "    x, y, z = r\n",
    "    return np.array([z, x, y])\n",
    "def r_fun(t): return np.array([np.cos(t), np.sin(t), 3*t])\n",
    "\n",
    "t = np.linspace(0, 2*np.pi)\n",
    "sol = line_integral(F_fun, r_fun, t)    \n",
    "print(sol)"
   ]
  },
  {
   "cell_type": "code",
   "execution_count": 33,
   "metadata": {},
   "outputs": [
    {
     "name": "stdout",
     "output_type": "stream",
     "text": [
      "3.083506872136609 2.33388862859273\n"
     ]
    }
   ],
   "source": [
    "# kreysig p. 467, example 3\n",
    "def F_fun(r):\n",
    "    x, y, z = r\n",
    "    return np.array([5*z, x*y, x**2*z])\n",
    "def r1_fun(t): return np.array([t,t,t])\n",
    "def r2_fun(t): return np.array([t,t,t**2])\n",
    "\n",
    "t = np.linspace(0, 1)\n",
    "sol1 = line_integral(F_fun, r1_fun, t)    \n",
    "sol2 = line_integral(F_fun, r2_fun, t)    \n",
    "print(sol1, sol2)"
   ]
  },
  {
   "cell_type": "markdown",
   "metadata": {},
   "source": [
    "## Double Integrals\n",
    "\n",
    "kreysig p. 478\n",
    "\n",
    "$$ \\iint_R f(x, y) \\, dx \\, dy = \\int_a^b \\int_{g(x)}^{h(x)} f(x, y) \\, dy \\, dx $$\n",
    "\n",
    "### Application of Double Integral\n",
    "\n",
    "Area of a region $R$ in the $xy$-plane \n",
    "$$A = \\iint_R dxdy$$\n",
    "\n",
    "Volume beneath the surface $z = f(x,y) (>0)$ and above a region $R$ in the $xy$-plane \n",
    "$$V = \\iint_R f(x,y) dxdy$$\n",
    "\n",
    "Let $f(x,y)$ be the density of a distribution of mass in the $xy$-plane. Then the total mass $M$ in $R$ is \n",
    "$$M = \\iint_R f(x,y) dxdy$$\n",
    "\n",
    "The center of gravity of the mass in $R$ has the coordinates $\\bar{x}$, $\\bar{y}$\n",
    "$$\\bar{x} = \\frac{1}{M} \\iint_R x f(x,y) dx dy, \\quad  \\bar{y} = \\frac{1}{M} \\iint_R y f(x,y) dx dy$$\n",
    "\n",
    "Moments of inertia $I_{xx}$, $I_{yy}$ \n",
    "$$ I_{xx} = \\iint_R y^2 f(x,y) dx dy, \\quad  I_{yy} = \\iint_R x^2 f(x,y) dx dy$$\n",
    "\n",
    "Polar moment of inertia\n",
    "$$ I_0 = I_{xx} + I_{yy} = \\iint_R (x^2 + y^2) f(x,y) dxdy$$"
   ]
  },
  {
   "cell_type": "code",
   "execution_count": 34,
   "metadata": {},
   "outputs": [
    {
     "name": "stdout",
     "output_type": "stream",
     "text": [
      "0.785398163397448 0.4244131815783877 0.1963495408493579\n",
      "0.7853981633974483 0.4244131815783876 0.19634954084936207\n"
     ]
    }
   ],
   "source": [
    "from scipy.integrate import dblquad\n",
    "# kreysig, p. 481, example 1 \n",
    "a, b = 0, 1\n",
    "gfun = lambda x: 0\n",
    "hfun = lambda x: np.sqrt(1 - x**2)\n",
    "M = dblquad(lambda x, y: 1, a, b, gfun, hfun)[0]\n",
    "xbar = 1/M*dblquad(lambda x, y: x, a, b, gfun, hfun)[0]\n",
    "Ix = dblquad(lambda x, y: y**2, a, b, gfun, hfun)[0]\n",
    "print(M, xbar, Ix)   \n",
    "print(np.pi/4, 4/(3*np.pi), np.pi/16)"
   ]
  },
  {
   "cell_type": "markdown",
   "metadata": {},
   "source": [
    "$$ \\iint_R f(x,y) \\, dx \\, dy = \\iint_{R^*} f(x(u,v), y(u,v)) \\, \\frac{\\partial(x,y)}{\\partial(u,v)} \\, du \\, dv $$\n",
    "\n",
    "$$ J = \\frac{\\partial(x,y)}{\\partial(u,v)} = \n",
    "\\begin{vmatrix}\n",
    "\\frac{\\partial x}{\\partial u} & \\frac{\\partial x}{\\partial v} \\\\\n",
    "\\frac{\\partial y}{\\partial u} & \\frac{\\partial y}{\\partial v}\n",
    "\\end{vmatrix}\n",
    "$$\n",
    "\n",
    "\n",
    "$$ \\iint_R f(x,y) \\, dx \\, dy = \\iint_{R^*} f(r \\cos \\theta , \\, r \\sin \\theta ) \\, r \\, dr \\, d \\theta  $$"
   ]
  },
  {
   "cell_type": "code",
   "execution_count": null,
   "metadata": {},
   "outputs": [],
   "source": []
  }
 ],
 "metadata": {
  "kernelspec": {
   "display_name": "Python 3",
   "language": "python",
   "name": "python3"
  },
  "language_info": {
   "codemirror_mode": {
    "name": "ipython",
    "version": 3
   },
   "file_extension": ".py",
   "mimetype": "text/x-python",
   "name": "python",
   "nbconvert_exporter": "python",
   "pygments_lexer": "ipython3",
   "version": "3.8.8"
  }
 },
 "nbformat": 4,
 "nbformat_minor": 2
}
