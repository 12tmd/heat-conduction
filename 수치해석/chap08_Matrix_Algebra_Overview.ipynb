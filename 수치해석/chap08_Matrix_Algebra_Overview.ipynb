{
 "cells": [
  {
   "cell_type": "markdown",
   "metadata": {},
   "source": [
    "# Chapter 8 Matrix Algebra Overview\n",
    "\n",
    "## Linear Algebra"
   ]
  },
  {
   "cell_type": "code",
   "execution_count": 1,
   "metadata": {},
   "outputs": [],
   "source": [
    "import numpy as np"
   ]
  },
  {
   "cell_type": "code",
   "execution_count": 2,
   "metadata": {
    "scrolled": true
   },
   "outputs": [
    {
     "data": {
      "text/plain": [
       "array([[1., 0., 0., 0., 0.],\n",
       "       [0., 1., 0., 0., 0.],\n",
       "       [0., 0., 1., 0., 0.],\n",
       "       [0., 0., 0., 1., 0.],\n",
       "       [0., 0., 0., 0., 1.]])"
      ]
     },
     "execution_count": 2,
     "metadata": {},
     "output_type": "execute_result"
    }
   ],
   "source": [
    "# identity matrix\n",
    "np.eye(5)"
   ]
  },
  {
   "cell_type": "code",
   "execution_count": 3,
   "metadata": {},
   "outputs": [
    {
     "data": {
      "text/plain": [
       "array([[1., 1., 1., 1., 1.],\n",
       "       [1., 1., 1., 1., 1.],\n",
       "       [1., 1., 1., 1., 1.],\n",
       "       [1., 1., 1., 1., 1.]])"
      ]
     },
     "execution_count": 3,
     "metadata": {},
     "output_type": "execute_result"
    }
   ],
   "source": [
    "np.ones((4,5))"
   ]
  },
  {
   "cell_type": "code",
   "execution_count": 4,
   "metadata": {},
   "outputs": [
    {
     "name": "stdout",
     "output_type": "stream",
     "text": [
      "(9,)\n",
      "[0 1 2 3 4 5 6 7 8]\n",
      "[[0 1 2 3 4 5 6 7 8]]\n",
      "(1, 9)\n"
     ]
    }
   ],
   "source": [
    "b = np.arange(9)\n",
    "print( b.shape )\n",
    "print(b)\n",
    "# c = np.arange(9)[:,np.newaxis]\n",
    "# print(c.shape)\n",
    "# print(c)\n",
    "bb = np.array([b])\n",
    "print(bb)\n",
    "print(bb.shape)"
   ]
  },
  {
   "cell_type": "code",
   "execution_count": 5,
   "metadata": {},
   "outputs": [
    {
     "data": {
      "text/plain": [
       "array([[0, 1, 2],\n",
       "       [3, 4, 5],\n",
       "       [6, 7, 8]])"
      ]
     },
     "execution_count": 5,
     "metadata": {},
     "output_type": "execute_result"
    }
   ],
   "source": [
    "A = np.arange(9).reshape(3,3)\n",
    "A"
   ]
  },
  {
   "cell_type": "code",
   "execution_count": 6,
   "metadata": {},
   "outputs": [
    {
     "data": {
      "text/plain": [
       "array([0, 4, 8])"
      ]
     },
     "execution_count": 6,
     "metadata": {},
     "output_type": "execute_result"
    }
   ],
   "source": [
    "np.diag(A)"
   ]
  },
  {
   "cell_type": "code",
   "execution_count": 7,
   "metadata": {},
   "outputs": [
    {
     "data": {
      "text/plain": [
       "array([[0, 0, 0],\n",
       "       [0, 4, 0],\n",
       "       [0, 0, 8]])"
      ]
     },
     "execution_count": 7,
     "metadata": {},
     "output_type": "execute_result"
    }
   ],
   "source": [
    "np.diag(np.diag(A))"
   ]
  },
  {
   "cell_type": "code",
   "execution_count": 8,
   "metadata": {},
   "outputs": [
    {
     "name": "stdout",
     "output_type": "stream",
     "text": [
      "[[0 1]\n",
      " [2 3]]\n",
      "[[1 2]\n",
      " [3 4]]\n"
     ]
    }
   ],
   "source": [
    "A = np.arange(4).reshape(2,2)\n",
    "B = np.arange(4).reshape(2,2) + 1\n",
    "print(A)\n",
    "print(B)"
   ]
  },
  {
   "cell_type": "code",
   "execution_count": 9,
   "metadata": {},
   "outputs": [
    {
     "name": "stdout",
     "output_type": "stream",
     "text": [
      "[[1 3]\n",
      " [5 7]]\n",
      "[[-0.5  0. ]\n",
      " [ 0.5  1. ]]\n",
      "[[ 0  2]\n",
      " [ 6 12]]\n",
      "[[0.         0.5       ]\n",
      " [0.66666667 0.75      ]]\n"
     ]
    }
   ],
   "source": [
    "print(A + B)\n",
    "print(A - B/2)\n",
    "print(A * B)  # matlab  *  matrix multiplication\n",
    "print(A / B)"
   ]
  },
  {
   "cell_type": "code",
   "execution_count": 10,
   "metadata": {},
   "outputs": [
    {
     "name": "stdout",
     "output_type": "stream",
     "text": [
      "[[0 1]\n",
      " [2 3]]\n",
      "[[1 2]\n",
      " [3 4]]\n",
      "[[ 3  4]\n",
      " [11 16]]\n",
      "[[ 3  4]\n",
      " [11 16]]\n",
      "[[ 3  4]\n",
      " [11 16]]\n",
      "[[ 3  4]\n",
      " [11 16]]\n"
     ]
    }
   ],
   "source": [
    "print(A)\n",
    "print(B)\n",
    "\n",
    "print( np.dot(A, B) ) \n",
    "print( A.dot(B) )\n",
    "print(A @ B)\n",
    "print(np.matmul(A, B))\n",
    "\n",
    "# matlab A*B"
   ]
  },
  {
   "cell_type": "code",
   "execution_count": 11,
   "metadata": {},
   "outputs": [
    {
     "data": {
      "text/plain": [
       "array([[ 0,  1,  2,  3],\n",
       "       [ 4,  5,  6,  7],\n",
       "       [ 8,  9, 10, 11],\n",
       "       [12, 13, 14, 15]])"
      ]
     },
     "execution_count": 11,
     "metadata": {},
     "output_type": "execute_result"
    }
   ],
   "source": [
    "A = np.arange(16).reshape(4,4)\n",
    "A"
   ]
  },
  {
   "cell_type": "code",
   "execution_count": 12,
   "metadata": {},
   "outputs": [
    {
     "data": {
      "text/plain": [
       "30"
      ]
     },
     "execution_count": 12,
     "metadata": {},
     "output_type": "execute_result"
    }
   ],
   "source": [
    "np.trace(A)"
   ]
  },
  {
   "cell_type": "code",
   "execution_count": 13,
   "metadata": {},
   "outputs": [
    {
     "data": {
      "text/plain": [
       "array([[1, 2],\n",
       "       [3, 4]])"
      ]
     },
     "execution_count": 13,
     "metadata": {},
     "output_type": "execute_result"
    }
   ],
   "source": [
    "# determinant\n",
    "A = (np.arange(4) + 1).reshape(2,2)\n",
    "A"
   ]
  },
  {
   "cell_type": "code",
   "execution_count": 14,
   "metadata": {},
   "outputs": [
    {
     "data": {
      "text/plain": [
       "-2.0000000000000004"
      ]
     },
     "execution_count": 14,
     "metadata": {},
     "output_type": "execute_result"
    }
   ],
   "source": [
    "np.linalg.det(A) # linear algebra"
   ]
  },
  {
   "cell_type": "code",
   "execution_count": 15,
   "metadata": {},
   "outputs": [
    {
     "data": {
      "text/plain": [
       "array([[-2. ,  1. ],\n",
       "       [ 1.5, -0.5]])"
      ]
     },
     "execution_count": 15,
     "metadata": {},
     "output_type": "execute_result"
    }
   ],
   "source": [
    "B = np.linalg.inv(A)  # inverse matrix  A @ A^(-1) = I\n",
    "B"
   ]
  },
  {
   "cell_type": "code",
   "execution_count": 16,
   "metadata": {},
   "outputs": [
    {
     "data": {
      "text/plain": [
       "(array([[1.00000000e+00, 1.11022302e-16],\n",
       "        [0.00000000e+00, 1.00000000e+00]]),\n",
       " array([[1.00000000e+00, 1.11022302e-16],\n",
       "        [0.00000000e+00, 1.00000000e+00]]))"
      ]
     },
     "execution_count": 16,
     "metadata": {},
     "output_type": "execute_result"
    }
   ],
   "source": [
    "np.dot(A, B), A @ B"
   ]
  },
  {
   "cell_type": "code",
   "execution_count": 17,
   "metadata": {},
   "outputs": [
    {
     "name": "stdout",
     "output_type": "stream",
     "text": [
      "[2. 5.]\n"
     ]
    }
   ],
   "source": [
    "# linear matrix equation     A x = b\n",
    "\n",
    "#     4 x1 + 3 x2 = 23\n",
    "#     3 x1 + 2 x2 = 16\n",
    "\n",
    "A = np.array([[4,3],[3,2]])\n",
    "b = np.array([23, 16])\n",
    "\n",
    "x = np.linalg.solve(A, b)   # matlab x = A \\ b\n",
    "print(x)\n",
    "\n",
    "# gauss elimination "
   ]
  },
  {
   "cell_type": "code",
   "execution_count": 18,
   "metadata": {},
   "outputs": [
    {
     "data": {
      "text/plain": [
       "array([0., 0.])"
      ]
     },
     "execution_count": 18,
     "metadata": {},
     "output_type": "execute_result"
    }
   ],
   "source": [
    "np.dot(A, x) - b"
   ]
  },
  {
   "cell_type": "markdown",
   "metadata": {},
   "source": [
    "### Example 8.2"
   ]
  },
  {
   "cell_type": "code",
   "execution_count": 19,
   "metadata": {},
   "outputs": [],
   "source": [
    "# A x = b\n",
    "A = np.array([[150, -100, 0], \n",
    "              [-100, 150, -50],\n",
    "              [0, -50, 50]])\n",
    "b = np.array([588.6, 686.7, 784.8])"
   ]
  },
  {
   "cell_type": "code",
   "execution_count": 20,
   "metadata": {},
   "outputs": [
    {
     "data": {
      "text/plain": [
       "(array([[ 150, -100,    0],\n",
       "        [-100,  150,  -50],\n",
       "        [   0,  -50,   50]]),\n",
       " array([588.6, 686.7, 784.8]))"
      ]
     },
     "execution_count": 20,
     "metadata": {},
     "output_type": "execute_result"
    }
   ],
   "source": [
    "A, b"
   ]
  },
  {
   "cell_type": "code",
   "execution_count": 21,
   "metadata": {},
   "outputs": [
    {
     "name": "stdout",
     "output_type": "stream",
     "text": [
      "[41.202 55.917 71.613]\n"
     ]
    }
   ],
   "source": [
    "x = np.linalg.solve(A, b)\n",
    "print(x)"
   ]
  },
  {
   "cell_type": "markdown",
   "metadata": {},
   "source": [
    "### Case Study 8-3, Kirchoff's law\n",
    "\n",
    "$$ i_2 ( R_2 + R_3 + R_4 ) + (i_2 - i_1) R_6 = 0 $$\n",
    "$$ i_1 (R_1 + R_5) + (i_1 - i_2 ) R_6 = E $$\n",
    "\n",
    "$$\n",
    "  \\begin{bmatrix} \n",
    "    -R_6  &  \n",
    "    R_2 + R_3 + R_4 + R_6 \\\\\n",
    "    R_1 + R_5 + R_6  & \n",
    "    -R_6\n",
    "  \\end{bmatrix}  \n",
    "  \\left[ \n",
    "  \\begin{array}{c} \n",
    "    i_1 \\\\\n",
    "    i_2 \n",
    "  \\end{array}   \\right]\n",
    " = \n",
    " \\left[ \n",
    "  \\begin{array}{c} \n",
    "    0 \\\\\n",
    "    E \n",
    "  \\end{array}   \\right]\n",
    " $$"
   ]
  },
  {
   "cell_type": "code",
   "execution_count": 22,
   "metadata": {},
   "outputs": [
    {
     "data": {
      "text/plain": [
       "array([6.15384615, 1.53846154])"
      ]
     },
     "execution_count": 22,
     "metadata": {},
     "output_type": "execute_result"
    }
   ],
   "source": [
    "E = 200\n",
    "R1, R2, R3, R4, R5, R6 = [5, 10, 5, 15, 20, 10]\n",
    "\n",
    "A = np.array([[         -R6, R2 + R3 + R4 + R6],\n",
    "              [R1 + R5 + R6,               -R6]])\n",
    "b = np.array([0, E])\n",
    "i = np.linalg.solve(A, b)\n",
    "i"
   ]
  },
  {
   "cell_type": "markdown",
   "metadata": {},
   "source": [
    "$$ i_1 + i_2 + i_6 = 0 $$\n",
    "$$ -i_2 + i_3 = 0 $$\n",
    "$$ -i_3 + i_4 = 0 $$\n",
    "$$ -i_4 + i_5 - i_6 = 0 $$\n",
    "\n",
    "$$ i_1 R_1 - i_6 R_6 - i_5 R_5 = 200 $$\n",
    "$$ -i_2 R_2 - i_3 R_3 - i_4 R_4 + i_6 R_6 = 0 $$"
   ]
  },
  {
   "cell_type": "code",
   "execution_count": 23,
   "metadata": {},
   "outputs": [
    {
     "data": {
      "text/plain": [
       "array([ 6.15384615, -1.53846154, -1.53846154, -1.53846154, -6.15384615,\n",
       "       -4.61538462])"
      ]
     },
     "execution_count": 23,
     "metadata": {},
     "output_type": "execute_result"
    }
   ],
   "source": [
    "A = np.array([[   1,     1,     0,     0,     0,     1],\n",
    "              [   0,    -1,     1,     0,     0,     0],\n",
    "              [   0,     0,    -1,     1,     0,     0],\n",
    "              [   0,     0,     0,    -1,     1,    -1],\n",
    "              [  R1,     0,     0,     0,   -R5,   -R6],\n",
    "              [   0,   -R2,   -R3,   -R4,     0,    R6]])\n",
    "b = np.array([0, 0, 0, 0, 200, 0])\n",
    "i = np.linalg.solve(A, b)\n",
    "i"
   ]
  },
  {
   "cell_type": "markdown",
   "metadata": {},
   "source": [
    "### problem 8-15"
   ]
  },
  {
   "cell_type": "code",
   "execution_count": 24,
   "metadata": {},
   "outputs": [
    {
     "data": {
      "text/plain": [
       "array([-2.51068409, -0.55342045, -0.12913144])"
      ]
     },
     "execution_count": 24,
     "metadata": {},
     "output_type": "execute_result"
    }
   ],
   "source": [
    "R = [35, 30, 8, 15, 5, 7, 10]\n",
    "A = [[R[0] + R[6] + R[4],              -R[6],              0],\n",
    "     [             -R[6], R[1] + R[5] + R[6],          -R[5]],\n",
    "     [                 0,              -R[5], R[2]+R[3]+R[5]]]\n",
    "b = [-120, 0, 0]\n",
    "i = np.linalg.solve(A, b)\n",
    "i"
   ]
  },
  {
   "cell_type": "markdown",
   "metadata": {},
   "source": [
    " ### problem 8-16"
   ]
  },
  {
   "cell_type": "code",
   "execution_count": 27,
   "metadata": {},
   "outputs": [
    {
     "data": {
      "image/png": "[encoded data removed]",
      "text/plain": [
       "<Figure size 432x288 with 1 Axes>"
      ]
     },
     "metadata": {
      "needs_background": "light"
     },
     "output_type": "display_data"
    }
   ],
   "source": [
    "def rotation2d(td, x, y):\n",
    "    t = td/180*np.pi\n",
    "    c = np.cos(t)\n",
    "    s = np.sin(t)\n",
    "    T = np.array([[c, -s], [s, c]])\n",
    "    return np.dot(T, np.vstack([x, y]))\n",
    "\n",
    "def plott(x, y, b):\n",
    "    plt.plot(np.r_[x, x[0]], np.r_[y, y[0]], b)\n",
    "    return\n",
    "    \n",
    "import matplotlib.pyplot as plt\n",
    "\n",
    "x = [1, 4, 4, 1]\n",
    "y = [1, 1, 4, 4]\n",
    "\n",
    "f = -1\n",
    "for t in np.linspace(0, 360, 29):    \n",
    "    xr, yr = rotation2d(t, x, y)\n",
    "    b = 'r' if f < 0 else 'b'\n",
    "    f = -f\n",
    "    plott(xr, yr, b)\n",
    "plt.axis('equal')\n",
    "plt.show()"
   ]
  },
  {
   "cell_type": "code",
   "execution_count": null,
   "metadata": {},
   "outputs": [],
   "source": []
  },
  {
   "cell_type": "code",
   "execution_count": null,
   "metadata": {},
   "outputs": [],
   "source": []
  }
 ],
 "metadata": {
  "kernelspec": {
   "display_name": "Python 3",
   "language": "python",
   "name": "python3"
  },
  "language_info": {
   "codemirror_mode": {
    "name": "ipython",
    "version": 3
   },
   "file_extension": ".py",
   "mimetype": "text/x-python",
   "name": "python",
   "nbconvert_exporter": "python",
   "pygments_lexer": "ipython3",
   "version": "3.8.8"
  }
 },
 "nbformat": 4,
 "nbformat_minor": 2
}
