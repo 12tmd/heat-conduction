{
 "cells": [
  {
   "cell_type": "markdown",
   "metadata": {},
   "source": [
    "# Chapter 10 LU Factorization"
   ]
  },
  {
   "cell_type": "code",
   "execution_count": 1,
   "metadata": {},
   "outputs": [],
   "source": [
    "import numpy as np"
   ]
  },
  {
   "cell_type": "code",
   "execution_count": 2,
   "metadata": {},
   "outputs": [],
   "source": [
    "def LU_decomposition(a):\n",
    "    a = a.copy()\n",
    "    m, n = a.shape\n",
    "    for k in range(n-1):\n",
    "        for i in range(k + 1, n):\n",
    "            factor = a[i, k] / a[k, k]\n",
    "            a[i, k+1:] -= factor * a[k, k+1:]\n",
    "            a[i, k] = factor\n",
    "    return a"
   ]
  },
  {
   "cell_type": "code",
   "execution_count": 3,
   "metadata": {},
   "outputs": [],
   "source": [
    "def LU_solve(a, b):\n",
    "    b = b.copy()\n",
    "    m, n = a.shape\n",
    "    for k in range(n):\n",
    "        b[k] -= np.dot(a[k,:k], b[:k])\n",
    "    for k in range(n-1, -1, -1):\n",
    "        b[k] = (b[k] - np.dot(a[k,k+1:], b[k+1:]))/a[k,k]\n",
    "    return b"
   ]
  },
  {
   "cell_type": "code",
   "execution_count": 4,
   "metadata": {},
   "outputs": [
    {
     "name": "stdout",
     "output_type": "stream",
     "text": [
      "[ 3.  -2.5  7. ]\n"
     ]
    }
   ],
   "source": [
    "a = np.array([[3, -0.1, -0.2], [0.1, 7, -0.3], [0.3, -0.2, 10]])\n",
    "ad = LU_decomposition(a)\n",
    "\n",
    "b = np.array([7.85, -19.3, 71.4])\n",
    "x = LU_solve(ad, b)\n",
    "print(x)"
   ]
  },
  {
   "cell_type": "code",
   "execution_count": 5,
   "metadata": {},
   "outputs": [
    {
     "name": "stdout",
     "output_type": "stream",
     "text": [
      "[[ True  True  True]\n",
      " [ True  True  True]\n",
      " [ True  True  True]]\n"
     ]
    }
   ],
   "source": [
    "U = np.triu(ad)\n",
    "L = np.tril(ad) - np.diag(np.diag(ad)) + np.eye(ad.shape[0])\n",
    "print(a == np.dot(L, U))"
   ]
  },
  {
   "cell_type": "markdown",
   "metadata": {},
   "source": [
    "### Cholesky Factorization"
   ]
  },
  {
   "cell_type": "code",
   "execution_count": 6,
   "metadata": {},
   "outputs": [],
   "source": [
    "def cholesky(a):\n",
    "    \"\"\" matrix a must be symmetric positive-definite \"\"\"\n",
    "    n = a.shape[0]\n",
    "    u = np.zeros((n,n))\n",
    "    for i in range(n):\n",
    "        temp = a[i,i] - np.dot(u[:i,i], u[:i,i])\n",
    "        if temp <= 0:\n",
    "            print('error : ~~')\n",
    "        u[i,i] = np.sqrt(temp)\n",
    "        for j in range(i+1, n):\n",
    "            u[i,j] = (a[i,j] - np.dot(u[:i,i], u[:i,j])) / u[i,i]\n",
    "    return u"
   ]
  },
  {
   "cell_type": "code",
   "execution_count": 7,
   "metadata": {},
   "outputs": [
    {
     "name": "stdout",
     "output_type": "stream",
     "text": [
      "[1053.96173576   13.54448382    3.49378041]\n"
     ]
    },
    {
     "data": {
      "text/plain": [
       "array([[0., 0., 0.],\n",
       "       [0., 0., 0.],\n",
       "       [0., 0., 0.]])"
      ]
     },
     "execution_count": 7,
     "metadata": {},
     "output_type": "execute_result"
    }
   ],
   "source": [
    "a = np.array([[16, 15, 55],[15, 55, 225], [55, 225, 1000]])\n",
    "# check eigenvalues, for positive-definite matrix, all eigenvalues are positive\n",
    "print(np.linalg.eigvals(a)) \n",
    "u = cholesky(a)\n",
    "np.round(a - np.dot(u.T, u),10)"
   ]
  },
  {
   "cell_type": "markdown",
   "metadata": {},
   "source": [
    "# Chapter 11 Matrix Inverse and Condition"
   ]
  },
  {
   "cell_type": "markdown",
   "metadata": {},
   "source": [
    "### Inverse mastrix by LU-Factorization "
   ]
  },
  {
   "cell_type": "code",
   "execution_count": 8,
   "metadata": {},
   "outputs": [],
   "source": [
    "def inverse_by_LU(a):\n",
    "    a = a.copy()\n",
    "    n =a.shape[0]\n",
    "    a = LU_decomposition(a)\n",
    "    e = np.eye(n)\n",
    "    b = np.zeros((n,n))\n",
    "    for i in range(n):\n",
    "        b[:,i] = LU_solve(a, e[i])\n",
    "    return b"
   ]
  },
  {
   "cell_type": "code",
   "execution_count": 9,
   "metadata": {},
   "outputs": [
    {
     "data": {
      "text/plain": [
       "array([[ 1., -0.,  0.],\n",
       "       [-0.,  1.,  0.],\n",
       "       [-0.,  0.,  1.]])"
      ]
     },
     "execution_count": 9,
     "metadata": {},
     "output_type": "execute_result"
    }
   ],
   "source": [
    "a = np.array([[3, -0.1, -0.2], [0.1, 7, -0.3], [0.3, -0.2, 10]])\n",
    "b = inverse_by_LU(a)\n",
    "np.round(np.dot(a, b), 8)"
   ]
  },
  {
   "cell_type": "code",
   "execution_count": 10,
   "metadata": {},
   "outputs": [
    {
     "name": "stdout",
     "output_type": "stream",
     "text": [
      "6\n",
      "14\n",
      "3.7416573867739413\n",
      "3.7416573867739413\n"
     ]
    }
   ],
   "source": [
    "# numpy array, norm\n",
    "x = np.array([1, 2, 3])\n",
    "print(x.sum())    \n",
    "print((x**2).sum())\n",
    "print(np.sqrt((x**2).sum()))\n",
    "print(np.linalg.norm(x))"
   ]
  },
  {
   "cell_type": "code",
   "execution_count": 8,
   "metadata": {},
   "outputs": [],
   "source": [
    "# example 11.3, Hilbert matrix\n",
    "def hilbert(n):\n",
    "    A = np.zeros((n,n))    \n",
    "    for i in range(n):\n",
    "        for j in range(n):\n",
    "            A[i,j] = 1/(i+j+1)\n",
    "    return A"
   ]
  },
  {
   "cell_type": "code",
   "execution_count": 12,
   "metadata": {},
   "outputs": [
    {
     "name": "stdout",
     "output_type": "stream",
     "text": [
      "    2           2.000      1.9281e+01\n",
      "    4           4.000      1.5514e+04\n",
      "    6           6.000      1.4951e+07\n",
      "    8           8.000      1.5258e+10\n",
      "   10          10.007      1.6025e+13\n",
      "   12          51.972      1.6212e+16\n",
      "   14        1992.441      2.5515e+17\n",
      "   16       23500.047      4.8875e+17\n",
      "   18       58955.608      1.3500e+18\n",
      "   20      561252.143      2.1065e+18\n"
     ]
    }
   ],
   "source": [
    "for n in range(2, 21, 2):\n",
    "    A = hilbert(n)\n",
    "    cond = np.linalg.cond(A)\n",
    "    B = np.linalg.inv(A)\n",
    "    x = np.abs((B.dot(A))).sum()\n",
    "    print(\"{0:5d} {1:15.3f} {2:15.4e}\".format(n, x, cond))"
   ]
  },
  {
   "cell_type": "markdown",
   "metadata": {},
   "source": [
    "## Python Function\n",
    "\n",
    "**scipy.linalg**\n",
    "\n",
    "Basics\n",
    "\n",
    "> inv(a[, overwrite_a, check_finite])\tCompute the inverse of a matrix.\n",
    "\n",
    "> solve(a, b[, sym_pos, lower, overwrite_a, ...])\tSolves the linear equation set a * x = b for the unknown x for square a matrix.\n",
    "\n",
    "> det(a[, overwrite_a, check_finite])\tCompute the determinant of a matrix\n",
    "\n",
    "> norm(a[, ord, axis, keepdims])\tMatrix or vector norm.\n",
    "\n",
    "> tril(m[, k])\tMake a copy of a matrix with elements above the k-th diagonal zeroed.\n",
    "\n",
    "> triu(m[, k])\tMake a copy of a matrix with elements below the k-th diagonal zeroed.\n",
    "\n",
    "Decompositions\n",
    "\n",
    "> lu(a[, permute_l, overwrite_a, check_finite])\tCompute pivoted LU decomposition of a matrix.\n",
    "\n",
    "> svd(a[, full_matrices, compute_uv, ...])\tSingular Value Decomposition.\n",
    "\n",
    "> cholesky(a[, lower, overwrite_a, check_finite])\tCompute the Cholesky decomposition of a matrix.\n",
    "\n",
    "> qr(a[, overwrite_a, lwork, mode, pivoting, ...])\tCompute QR decomposition of a matrix.\n",
    "\n",
    "> hessenberg(a[, calc_q, overwrite_a, ...])\tCompute Hessenberg form of a matrix.\n"
   ]
  },
  {
   "cell_type": "code",
   "execution_count": null,
   "metadata": {},
   "outputs": [],
   "source": []
  },
  {
   "cell_type": "code",
   "execution_count": null,
   "metadata": {},
   "outputs": [],
   "source": []
  }
 ],
 "metadata": {
  "kernelspec": {
   "display_name": "Python 3",
   "language": "python",
   "name": "python3"
  },
  "language_info": {
   "codemirror_mode": {
    "name": "ipython",
    "version": 3
   },
   "file_extension": ".py",
   "mimetype": "text/x-python",
   "name": "python",
   "nbconvert_exporter": "python",
   "pygments_lexer": "ipython3",
   "version": "3.8.8"
  }
 },
 "nbformat": 4,
 "nbformat_minor": 2
}
