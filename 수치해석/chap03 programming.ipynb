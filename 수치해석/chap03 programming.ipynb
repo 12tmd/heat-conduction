{
 "cells": [
  {
   "cell_type": "markdown",
   "metadata": {},
   "source": [
    "# Chapter 3 Programming "
   ]
  },
  {
   "cell_type": "code",
   "execution_count": 1,
   "metadata": {},
   "outputs": [],
   "source": [
    "import numpy as np"
   ]
  },
  {
   "cell_type": "code",
   "execution_count": 3,
   "metadata": {},
   "outputs": [],
   "source": [
    "def convert(C):\n",
    "    F = 9/5*C + 32\n",
    "    return F\n"
   ]
  },
  {
   "cell_type": "code",
   "execution_count": 4,
   "metadata": {},
   "outputs": [
    {
     "data": {
      "text/plain": [
       "77.0"
      ]
     },
     "execution_count": 4,
     "metadata": {},
     "output_type": "execute_result"
    }
   ],
   "source": [
    "convert(25)"
   ]
  },
  {
   "cell_type": "code",
   "execution_count": 27,
   "metadata": {},
   "outputs": [
    {
     "name": "stdout",
     "output_type": "stream",
     "text": [
      "1, 1, 2, 3, 5, 8, 13, 21, "
     ]
    },
    {
     "data": {
      "text/plain": [
       "21"
      ]
     },
     "execution_count": 27,
     "metadata": {},
     "output_type": "execute_result"
    }
   ],
   "source": [
    "# Fibonacci series , f(n) = f(n-1) + f(n-2)\n",
    "# 1, 1, 2, 3, 5, 8, 13, 21, 34, 55, ...\n",
    "def fib1(n):\n",
    "    f1, f2 = 0, 1\n",
    "    k=1\n",
    "    print(f2, end=', ')        \n",
    "    while 1:\n",
    "        k += 1 # k = k + 1\n",
    "        f1, f2 = f2, f1+f2\n",
    "        print(f2, end=', ')        \n",
    "        if k == n:\n",
    "            return f2\n",
    "        \n",
    "fib1(8)        "
   ]
  },
  {
   "cell_type": "code",
   "execution_count": 30,
   "metadata": {},
   "outputs": [
    {
     "data": {
      "text/plain": [
       "21"
      ]
     },
     "execution_count": 30,
     "metadata": {},
     "output_type": "execute_result"
    }
   ],
   "source": [
    "def fib2(n): # 재귀함수, recursion\n",
    "#     print(n)\n",
    "    if n <= 1: \n",
    "        return n\n",
    "    return fib2(n-1) + fib2(n-2)\n",
    "\n",
    "fib2(8)"
   ]
  },
  {
   "cell_type": "code",
   "execution_count": 31,
   "metadata": {},
   "outputs": [
    {
     "data": {
      "text/plain": [
       "162.8894626777442"
      ]
     },
     "execution_count": 31,
     "metadata": {},
     "output_type": "execute_result"
    }
   ],
   "source": [
    "def future_value(p, i, n):\n",
    "    \"\"\"\n",
    "    Calculate future value of n years investment \n",
    "    input :\n",
    "        p : initial principal\n",
    "        i : annual interest\n",
    "        n : numberof years\n",
    "    output :\n",
    "        f : future return    \n",
    "    \"\"\"\n",
    "    for k in range(n):\n",
    "        p = p*(1+i)\n",
    "    return p\n",
    "\n",
    "future_value(100, 0.05, 10)"
   ]
  },
  {
   "cell_type": "code",
   "execution_count": 35,
   "metadata": {},
   "outputs": [],
   "source": [
    "import numpy as np\n",
    "\n",
    "def freefall(t, m=68.1, cd=0.25):\n",
    "    \"\"\"\n",
    "    freefall : bungee velocity with second-order drag\n",
    "    input : \n",
    "        t = time (s)\n",
    "        m = mass (kg), default 68.1\n",
    "        cd = drag coefficient (m/s), default = 0.25    \n",
    "    output :\n",
    "        v = velocity (m/s)    \n",
    "    \"\"\"\n",
    "    g = 9.81\n",
    "    v = np.sqrt(g * m / cd) * np.tanh(np.sqrt(g * cd / m) * t)\n",
    "    return v"
   ]
  },
  {
   "cell_type": "code",
   "execution_count": 33,
   "metadata": {},
   "outputs": [
    {
     "data": {
      "text/plain": [
       "59.78698843813102"
      ]
     },
     "execution_count": 33,
     "metadata": {},
     "output_type": "execute_result"
    }
   ],
   "source": [
    "t = 12\n",
    "# v = freefall(12)\n",
    "v = freefall(t, m=80, cd=0.2)\n",
    "v"
   ]
  },
  {
   "cell_type": "code",
   "execution_count": 40,
   "metadata": {},
   "outputs": [
    {
     "data": {
      "image/png": "[encoded data removed]",
      "text/plain": [
       "<Figure size 432x288 with 1 Axes>"
      ]
     },
     "metadata": {
      "needs_background": "light"
     },
     "output_type": "display_data"
    }
   ],
   "source": [
    "t = np.linspace(0, 12, 13)\n",
    "for m in [68, 80]:\n",
    "    v = freefall(t, m=m)\n",
    "    plt.plot(t, v, label=m)\n",
    "plt.legend()\n",
    "plt.grid()\n",
    "plt.show()\n",
    "    "
   ]
  },
  {
   "cell_type": "markdown",
   "metadata": {},
   "source": [
    "## nesting structure"
   ]
  },
  {
   "cell_type": "code",
   "execution_count": 5,
   "metadata": {},
   "outputs": [],
   "source": [
    "def quadroots(a, b, c): # a x^2 + b x + c = 0 , x = (-b +- sqrt(b^2 - 4*a*c))/(2a)\n",
    "    if a == 0:\n",
    "        if b != 0:\n",
    "            r = - c / b\n",
    "            return r\n",
    "        else:\n",
    "            print('trivial solution')\n",
    "    else:\n",
    "        d = b**2 - 4*a*c\n",
    "        if d >= 0:\n",
    "            r1 = (-b + np.sqrt(d)) / (2*a)\n",
    "            r2 = (-b - np.sqrt(d)) / (2*a)\n",
    "            return r1, r2            \n",
    "        else:\n",
    "            r = -b / (2*a)\n",
    "            i = np.sqrt(np.abs(d)) / (2*a)\n",
    "            return r + i*1j, r - i*1j"
   ]
  },
  {
   "cell_type": "code",
   "execution_count": 6,
   "metadata": {},
   "outputs": [
    {
     "data": {
      "text/plain": [
       "((-0.5+0.8660254037844386j), (-0.5-0.8660254037844386j))"
      ]
     },
     "execution_count": 6,
     "metadata": {},
     "output_type": "execute_result"
    }
   ],
   "source": [
    "quadroots(1,1,1)"
   ]
  },
  {
   "cell_type": "code",
   "execution_count": 43,
   "metadata": {},
   "outputs": [
    {
     "data": {
      "text/plain": [
       "(-0.20871215252208009, -4.7912878474779195)"
      ]
     },
     "execution_count": 43,
     "metadata": {},
     "output_type": "execute_result"
    }
   ],
   "source": [
    "quadroots(1,5,1)"
   ]
  },
  {
   "cell_type": "markdown",
   "metadata": {},
   "source": [
    "### Anonymous function"
   ]
  },
  {
   "cell_type": "code",
   "execution_count": 46,
   "metadata": {},
   "outputs": [
    {
     "name": "stdout",
     "output_type": "stream",
     "text": [
      "13\n",
      "13\n"
     ]
    }
   ],
   "source": [
    "fun = lambda x, y: x**2 + y**2\n",
    "print( fun(2,3) )\n",
    "\n",
    "def fun1(x, y):\n",
    "    return x**2 + y**2\n",
    "\n",
    "print( fun(2, 3),  )"
   ]
  },
  {
   "cell_type": "markdown",
   "metadata": {},
   "source": [
    "### gcd"
   ]
  },
  {
   "cell_type": "code",
   "execution_count": 47,
   "metadata": {},
   "outputs": [
    {
     "name": "stdout",
     "output_type": "stream",
     "text": [
      "69 575\n",
      "575 69\n",
      "69 23\n",
      "23 0\n"
     ]
    },
    {
     "data": {
      "text/plain": [
       "23"
      ]
     },
     "execution_count": 47,
     "metadata": {},
     "output_type": "execute_result"
    }
   ],
   "source": [
    "def gcd(a, b):\n",
    "    \"\"\"최대공약수(greatest common divisor)\"\"\"\n",
    "#     print(a, b)\n",
    "    while (b != 0):\n",
    "        a, b = b, a % b\n",
    "#         print(a, b)\n",
    "    return a\n",
    "gcd(23*3, 23*25)"
   ]
  },
  {
   "cell_type": "code",
   "execution_count": 8,
   "metadata": {},
   "outputs": [
    {
     "name": "stdout",
     "output_type": "stream",
     "text": [
      "69 575\n",
      "575 69\n",
      "69 23\n",
      "23 0\n"
     ]
    },
    {
     "data": {
      "text/plain": [
       "23"
      ]
     },
     "execution_count": 8,
     "metadata": {},
     "output_type": "execute_result"
    }
   ],
   "source": [
    "def gcd1(a, b):  # recurssion\n",
    "    print(a,b)\n",
    "    if b == 0:\n",
    "        return a\n",
    "    else:\n",
    "        return gcd1(b, a%b)\n",
    "gcd1(23*3, 23*25)"
   ]
  },
  {
   "cell_type": "markdown",
   "metadata": {},
   "source": [
    "### prime factor"
   ]
  },
  {
   "cell_type": "code",
   "execution_count": 10,
   "metadata": {},
   "outputs": [
    {
     "data": {
      "text/plain": [
       "[2, 2, 3, 3, 17]"
      ]
     },
     "execution_count": 10,
     "metadata": {},
     "output_type": "execute_result"
    }
   ],
   "source": [
    "def prime_factors(n):\n",
    "    i = 2\n",
    "    factors = []\n",
    "    while i * i <= n:\n",
    "#         print(i, n)\n",
    "        if n % i:\n",
    "            i += 1\n",
    "        else:\n",
    "            n //= i\n",
    "            factors.append(i)\n",
    "    if n > 1:\n",
    "        factors.append(n)\n",
    "    return factors    \n",
    "\n",
    "prime_factors(612) # 612 = 17*6*6"
   ]
  },
  {
   "cell_type": "code",
   "execution_count": 13,
   "metadata": {},
   "outputs": [],
   "source": [
    "def trial_division(n):\n",
    "    a = []\n",
    "    while n % 2 == 0:\n",
    "        a.append(2)\n",
    "        n //= 2\n",
    "    f = 3\n",
    "    while f * f <= n:\n",
    "        if n % f == 0:\n",
    "            a.append(f)\n",
    "            n //= f\n",
    "        else:\n",
    "            f += 2\n",
    "    if n != 1: a.append(n)\n",
    "    # Only odd number is possible\n",
    "    return a"
   ]
  },
  {
   "cell_type": "code",
   "execution_count": 16,
   "metadata": {},
   "outputs": [
    {
     "data": {
      "text/plain": [
       "[2, 2, 31]"
      ]
     },
     "execution_count": 16,
     "metadata": {},
     "output_type": "execute_result"
    }
   ],
   "source": [
    "trial_division(124)"
   ]
  },
  {
   "cell_type": "markdown",
   "metadata": {},
   "source": [
    "### prime number"
   ]
  },
  {
   "cell_type": "code",
   "execution_count": 17,
   "metadata": {},
   "outputs": [
    {
     "name": "stdout",
     "output_type": "stream",
     "text": [
      "8\n",
      "2 [ 2  3  5  7  9 11 13 15 17 19 21 23 25 27 29 31 33 35 37 39 41 43 45 47\n",
      " 49]\n",
      "3 [ 2  3  5  7 11 13 17 19 23 25 29 31 35 37 41 43 47 49]\n",
      "5 [ 2  3  5  7 11 13 17 19 23 29 31 37 41 43 47 49]\n",
      "7 [ 2  3  5  7 11 13 17 19 23 29 31 37 41 43 47]\n"
     ]
    },
    {
     "data": {
      "text/plain": [
       "array([ 2,  3,  5,  7, 11, 13, 17, 19, 23, 29, 31, 37, 41, 43, 47])"
      ]
     },
     "execution_count": 17,
     "metadata": {},
     "output_type": "execute_result"
    }
   ],
   "source": [
    "import numpy as np\n",
    "def prime_sieve(n):\n",
    "    \"\"\" \n",
    "    Wikipedia  \n",
    "    \n",
    "    Sieve of Eratosthenes\n",
    "    \n",
    "    algorithm Sieve of Eratosthenes is\n",
    "    input: an integer n > 1.\n",
    "    output: all prime numbers from 2 through n.\n",
    "\n",
    "    let A be an array of Boolean values, indexed by integers 2 to n,\n",
    "    initially all set to true.\n",
    "    \n",
    "    for i = 2, 3, 4, ..., not exceeding √n do\n",
    "        if A[i] is true\n",
    "            for j = i2, i2+i, i2+2i, i2+3i, ..., not exceeding n do\n",
    "                A[j] := false\n",
    "\n",
    "    return all i such that A[i] is true.\n",
    "    \"\"\"\n",
    "    A = [True]*(n)\n",
    "    res = np.arange(n)\n",
    "    A[0] = A[1] = False\n",
    "    n2 = np.int(np.sqrt(n)) + 1\n",
    "    print(n2)\n",
    "    for k in range(2, n2):        \n",
    "        if A[k] == True:\n",
    "            for j in range(k*k, n, k):\n",
    "                if A[j] == True:\n",
    "                    A[j] = False    \n",
    "            print(k, res[A])\n",
    "    return res[A]\n",
    "\n",
    "prime_sieve(50)"
   ]
  },
  {
   "cell_type": "markdown",
   "metadata": {},
   "source": [
    "### Sort"
   ]
  },
  {
   "cell_type": "code",
   "execution_count": 49,
   "metadata": {},
   "outputs": [
    {
     "name": "stdout",
     "output_type": "stream",
     "text": [
      "[1, 1, 2, 3, 6, 8, 10]\n",
      "[1, 1, 2, 3, 6, 8, 10]\n",
      "[1, 1, 2, 3, 6, 8, 10]\n",
      "[ 1  1  2  3  6  8 10]\n"
     ]
    }
   ],
   "source": [
    "def bubble_sort(a):\n",
    "    n = len(a)\n",
    "    for i in range(n-1):\n",
    "        for j in range(i+1, n):\n",
    "            if a[i] > a[j]:\n",
    "                a[i], a[j] = a[j], a[i] # swap\n",
    "    return a\n",
    "    \n",
    "def quick_sort(a):\n",
    "    n = len(a)\n",
    "    if n <= 1:\n",
    "        return a\n",
    "    pivot = a[n//2]\n",
    "    left   = [x for x in a if x < pivot]\n",
    "    middle = [x for x in a if x == pivot]\n",
    "    right  = [x for x in a if x > pivot]\n",
    "    return quick_sort(left) + middle + quick_sort(right) # list concatenation\n",
    "\n",
    "a = [3,6,8,10,1,2,1]\n",
    "a = bubble_sort(a)\n",
    "print(a)\n",
    "\n",
    "a = [3,6,8,10,1,2,1]\n",
    "a = quick_sort(a)\n",
    "print(a)\n",
    "\n",
    "a = [3,6,8,10,1,2,1]\n",
    "a.sort() # Sort an array in-place\n",
    "print( a )\n",
    "\n",
    "a = np.array([3,6,8,10,1,2,1])\n",
    "a.sort() # Sort an array in-place\n",
    "print(a)"
   ]
  },
  {
   "cell_type": "markdown",
   "metadata": {},
   "source": [
    "### Bisection method \n",
    "Find a root $ e^{-x} = x$ , $0 < x < 1$"
   ]
  },
  {
   "cell_type": "code",
   "execution_count": 17,
   "metadata": {
    "scrolled": true
   },
   "outputs": [
    {
     "name": "stdout",
     "output_type": "stream",
     "text": [
      "        0.00000        2.50000        5.00000\n",
      "        0.00000        1.25000        2.50000\n",
      "        0.00000        0.62500        1.25000\n",
      "        0.00000        0.31250        0.62500\n",
      "        0.31250        0.46875        0.62500\n",
      "        0.46875        0.54688        0.62500\n",
      "        0.54688        0.58594        0.62500\n",
      "        0.54688        0.56641        0.58594\n",
      "        0.56641        0.57617        0.58594\n",
      "        0.56641        0.57129        0.57617\n",
      "        0.56641        0.56885        0.57129\n",
      "        0.56641        0.56763        0.56885\n",
      "        0.56641        0.56702        0.56763\n",
      "        0.56702        0.56732        0.56763\n",
      "        0.56702        0.56717        0.56732\n",
      "        0.56702        0.56709        0.56717\n",
      "        0.56709        0.56713        0.56717\n",
      "        0.56713        0.56715        0.56717\n",
      "        0.56713        0.56714        0.56715\n",
      "        0.56714        0.56715        0.56715\n",
      "        0.56714        0.56714        0.56715\n",
      "        0.56714        0.56714        0.56715\n",
      "        0.56714        0.56714        0.56714\n",
      "0.5671429634094238\n"
     ]
    },
    {
     "data": {
      "image/png": "[encoded data removed]",
      "text/plain": [
       "<Figure size 432x288 with 1 Axes>"
      ]
     },
     "metadata": {
      "needs_background": "light"
     },
     "output_type": "display_data"
    }
   ],
   "source": [
    "import numpy as np\n",
    "import matplotlib.pyplot as plt\n",
    "\n",
    "def bisection(fun, a, b, tol=1e-6):\n",
    "    fa = fun(a)\n",
    "    fb = fun(b)\n",
    "    while 1:        \n",
    "        c = (a + b)/2\n",
    "        print('{:15.5f}{:15.5f}{:15.5f}'.format(a, c, b))\n",
    "        fc = fun(c)\n",
    "        if fa*fc > 0:\n",
    "            a, fa = c, fc\n",
    "        else:\n",
    "            b, fb = c, fc\n",
    "        if np.abs(a-b) < tol:\n",
    "            return a\n",
    "def fun(x):\n",
    "    return np.exp(-x) - x        \n",
    "\n",
    "x = np.linspace(0, 1)\n",
    "plt.plot(x, fun(x))\n",
    "plt.grid()\n",
    "\n",
    "x = bisection(fun, 0, 5)\n",
    "print(x)  \n",
    "plt.plot([x], [0], 'o')\n",
    "plt.show()"
   ]
  },
  {
   "cell_type": "markdown",
   "metadata": {},
   "source": [
    "Evaluate \n",
    "\n",
    "$$\\sin(x) = x - \\frac{x^3}{3!} + \\frac{x^5}{5!} - \\cdots$$"
   ]
  },
  {
   "cell_type": "code",
   "execution_count": 20,
   "metadata": {},
   "outputs": [
    {
     "data": {
      "image/png": "[encoded data removed]",
      "text/plain": [
       "<Figure size 432x288 with 1 Axes>"
      ]
     },
     "metadata": {
      "needs_background": "light"
     },
     "output_type": "display_data"
    }
   ],
   "source": [
    "n = 15\n",
    "a = np.zeros(n+2)\n",
    "\n",
    "a[1] = 1\n",
    "k = 1\n",
    "f = 1\n",
    "sign = 1\n",
    "for i in range(n):\n",
    "    k = k+1\n",
    "    f = f*(2*k-1)*(2*k-2)\n",
    "    sign = -1*sign\n",
    "    a[k] = sign/f\n",
    "    \n",
    "x = np.linspace(0, 0.5, 100)\n",
    "y = np.empty_like(x)\n",
    "\n",
    "for nn in [5, 10]:\n",
    "    p = a[nn]\n",
    "    for i in reversed(range(nn - 1)):\n",
    "        p = a[i] + x*p\n",
    "    plt.plot(x, p, label=nn)\n",
    "plt.plot(x, np.sin(x), 'r')\n",
    "plt.legend(title='n')\n",
    "plt.grid()\n",
    "plt.show()\n",
    "    \n",
    "    "
   ]
  },
  {
   "cell_type": "code",
   "execution_count": 21,
   "metadata": {},
   "outputs": [
    {
     "name": "stdout",
     "output_type": "stream",
     "text": [
      "    n            e_t            e_r\n",
      "    3    5.70796e-01    3.63380e-01\n",
      "    5    7.51678e-02    6.98466e-01\n",
      "    7    4.52486e-03    7.93337e-02\n",
      "    9    1.56899e-04    4.68249e-03\n",
      "   11    3.54258e-06    1.60441e-04\n",
      "   13    5.62589e-08    3.59884e-06\n"
     ]
    }
   ],
   "source": [
    "def factorial_1(n):\n",
    "    if n == 0:  \n",
    "        return 1\n",
    "    f = 1\n",
    "    for i in range(1, n+1):\n",
    "        f = f*i\n",
    "    return f\n",
    "\n",
    "def factorial_2(n):  \n",
    "    if n == 0: \n",
    "        return 1\n",
    "    else: \n",
    "        return n*factorial_2(n-1)\n",
    "\n",
    "def factorial_3(n):  \n",
    "    return np.arange(1, n+1).prod()\n",
    "    \n",
    "\n",
    "print(\"{:>5s}{:>15s}{:>15s}\".format('n', 'e_t', 'e_r'))    \n",
    "p = 1\n",
    "for n in range(3, 15, 2):\n",
    "    a = np.zeros(n)\n",
    "    s = 1\n",
    "    for i in range(1, n, 2):\n",
    "        a[i] = s/factorial_2(i)\n",
    "        s = -s\n",
    "    \n",
    "    pold = p\n",
    "    \n",
    "    x = np.pi/2    \n",
    "    p = a[-1]\n",
    "    for i in reversed(range(n - 1)):\n",
    "        p = a[i] + x*p\n",
    "    \n",
    "    e_t = np.abs(p - np.sin(x))\n",
    "    e_r = np.abs(p-pold)/np.abs(p)\n",
    "    print(\"{:5d}{:15.5e}{:15.5e}\".format(n, e_t, e_r))"
   ]
  },
  {
   "cell_type": "markdown",
   "metadata": {},
   "source": [
    "### divide and average\n",
    "Calculate the square root of a positive number\n",
    "$$x = \\sqrt{a}$$\n",
    "$$x = \\frac{x + a / x}{2}$$ "
   ]
  },
  {
   "cell_type": "code",
   "execution_count": 54,
   "metadata": {},
   "outputs": [],
   "source": [
    "def square_root(a, tol=1e-6):\n",
    "    x = a/2.0    \n",
    "    while 1:\n",
    "        xold = x\n",
    "        x = (x + a/x)/2.0\n",
    "        if np.abs(x-xold) < tol: \n",
    "            return x\n",
    "        \n",
    "        \n",
    "        \n",
    "#         print(\"{:5d}{:15.6f}{:15.6e}{:15.6e}\".format(k, x, xold-x, x-np.sqrt(2)))\n",
    "#         if np.abs(x-xold) < tol*np.abs(x):\n",
    "#             return x, k"
   ]
  },
  {
   "cell_type": "code",
   "execution_count": 55,
   "metadata": {},
   "outputs": [
    {
     "data": {
      "text/plain": [
       "1.7320508075688772"
      ]
     },
     "execution_count": 55,
     "metadata": {},
     "output_type": "execute_result"
    }
   ],
   "source": [
    "square_root(3)"
   ]
  },
  {
   "cell_type": "code",
   "execution_count": null,
   "metadata": {},
   "outputs": [],
   "source": []
  }
 ],
 "metadata": {
  "kernelspec": {
   "display_name": "Python 3",
   "language": "python",
   "name": "python3"
  },
  "language_info": {
   "codemirror_mode": {
    "name": "ipython",
    "version": 3
   },
   "file_extension": ".py",
   "mimetype": "text/x-python",
   "name": "python",
   "nbconvert_exporter": "python",
   "pygments_lexer": "ipython3",
   "version": "3.8.8"
  }
 },
 "nbformat": 4,
 "nbformat_minor": 2
}
