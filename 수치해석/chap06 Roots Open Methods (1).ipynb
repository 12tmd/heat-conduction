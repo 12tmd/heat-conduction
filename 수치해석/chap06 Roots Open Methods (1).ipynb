{
 "cells": [
  {
   "cell_type": "markdown",
   "metadata": {},
   "source": [
    "# Chapter 6 Roots: Open Methods"
   ]
  },
  {
   "cell_type": "code",
   "execution_count": 1,
   "metadata": {},
   "outputs": [],
   "source": [
    "import numpy as np\n",
    "import matplotlib.pyplot as plt\n",
    "plt.style.use('seaborn-whitegrid')"
   ]
  },
  {
   "cell_type": "markdown",
   "metadata": {},
   "source": [
    "## 6.1 Simple Fixed Point Iteration\n",
    "\n",
    "$$ x_{n+1}=f(x_{n}),\\,n=0,1,2,\\dots  $$\n",
    "which gives rise to the sequence ${\\displaystyle x_{0},x_{1},x_{2},\\dots }x_{0},x_{1},x_{2},\\dots $  which is hoped to converge to a point ${\\displaystyle x}$. If ${\\displaystyle f}$ is continuous, then one can prove that the obtained ${\\displaystyle x}$ is a fixed point of $f$, i.e.,\n",
    "\n",
    "$$ {\\displaystyle f(x)=x.\\,}$$"
   ]
  },
  {
   "cell_type": "markdown",
   "metadata": {},
   "source": [
    "### Example 6.1  \n",
    "\n",
    "$\\exp(-x) = x$\n",
    "\n",
    "Using simple fixed point iteration to locate the root of \n",
    "\n",
    "$ x = e^{-x} = f(x) $"
   ]
  },
  {
   "cell_type": "code",
   "execution_count": 2,
   "metadata": {},
   "outputs": [
    {
     "name": "stdout",
     "output_type": "stream",
     "text": [
      "1 1\n",
      "2 0.36787944117144233\n",
      "3 0.6922006275553464\n",
      "4 0.5004735005636368\n",
      "5 0.6062435350855974\n",
      "6 0.545395785975027\n",
      "7 0.5796123355033789\n",
      "8 0.5601154613610891\n",
      "9 0.571143115080177\n",
      "10 0.5648793473910495\n",
      "11 0.5684287250290607\n",
      "12 0.5664147331468833\n",
      "13 0.5675566373282834\n"
     ]
    },
    {
     "data": {
      "image/png": "[encoded data removed]",
      "text/plain": [
       "<Figure size 432x288 with 1 Axes>"
      ]
     },
     "metadata": {},
     "output_type": "display_data"
    }
   ],
   "source": [
    "# x = 1\n",
    "# while 1:\n",
    "#     xold = x\n",
    "#     x = np.exp(-x)\n",
    "#     print(x)\n",
    "#     if np.abs(x-xold) < 0.001:\n",
    "#         break\n",
    "        \n",
    "\n",
    "x = np.linspace(0, 1)\n",
    "plt.plot(x,x, x,np.exp(-x))\n",
    "\n",
    "x = 1\n",
    "k = 0\n",
    "while 1:\n",
    "    k += 1\n",
    "    print(k, x)\n",
    "    xold = x\n",
    "    x = np.exp(-x)\n",
    "    plt.plot([xold, x, x,], [x, x, np.exp(-x)], 'b:')\n",
    "    if np.abs(x-xold) < 1.0e-3:\n",
    "        break\n",
    "plt.show()"
   ]
  },
  {
   "cell_type": "code",
   "execution_count": 3,
   "metadata": {},
   "outputs": [],
   "source": [
    "def fixed_point_iteration(fun, x, tol=1e-6, ishow=False, iprint=False):\n",
    "    k = 0\n",
    "    while 1:\n",
    "        k += 1\n",
    "        if iprint: print(k, x)\n",
    "        xold = x\n",
    "        x = fun(x)\n",
    "        if ishow:\n",
    "            plt.plot([xold, x, x,], [x, x, fun(x)], 'b')\n",
    "        if np.abs(x-xold) < tol*np.max([np.abs(x+xold), 1]):            \n",
    "            if ishow: plt.show()\n",
    "            return x"
   ]
  },
  {
   "cell_type": "code",
   "execution_count": 4,
   "metadata": {},
   "outputs": [
    {
     "data": {
      "image/png": "[encoded data removed]",
      "text/plain": [
       "<Figure size 432x288 with 1 Axes>"
      ]
     },
     "metadata": {},
     "output_type": "display_data"
    },
    {
     "data": {
      "text/plain": [
       "0.5671430308342419"
      ]
     },
     "execution_count": 4,
     "metadata": {},
     "output_type": "execute_result"
    }
   ],
   "source": [
    "x = fixed_point_iteration(lambda x: np.exp(-x), 1, tol=1e-6, iprint=False, ishow=True)\n",
    "x"
   ]
  },
  {
   "cell_type": "markdown",
   "metadata": {},
   "source": [
    "## 6.2 Newton Raphson"
   ]
  },
  {
   "cell_type": "markdown",
   "metadata": {},
   "source": [
    "The equation of the tangent line to the curve $y = f (x)$ at $x = x_n$ is\n",
    "\n",
    "$$ {\\displaystyle y=f'(x_{n})\\,(x-x_{n})+f(x_{n}),}$$\n",
    "where $f'$ denotes the derivative. The $x$-intercept of this line (the value of $x$ which makes $y = 0$) is taken as the next approximation, $x_{n + 1}$, to the root, so that the equation of the tangent line is satisfied when ${\\displaystyle (x,y)=(x_{n+1},0)}$ \n",
    "\n",
    "$$ {\\displaystyle 0=f'(x_{n})\\,(x_{n+1}-x_{n})+f(x_{n}).}$$\n",
    "Solving for $x_{n + 1}$ gives\n",
    "\n",
    "$$ {\\displaystyle x_{n+1}=x_{n}-{\\frac {f(x_{n})}{f'(x_{n})}}.}$$\n",
    "\n",
    "### Practical considerations\n",
    "\n",
    "- Difficulty in calculating derivative of a function\n",
    "- Failure of the method to converge to the root\n",
    "- Overshoot\n",
    "- Stationary point\n",
    "- Poor initial estimate\n",
    "- Mitigation of non-convergence\n",
    "- Slow convergence for roots of multiplicity greater than 1"
   ]
  },
  {
   "cell_type": "code",
   "execution_count": 5,
   "metadata": {},
   "outputs": [],
   "source": [
    "def newton_raphson_with_derivative(fun, dfun, x0, tol=1.0e-6):\n",
    "    x = x0\n",
    "    k = 0\n",
    "    while 1:\n",
    "        k += 1\n",
    "        xold = x\n",
    "        f = fun(x)\n",
    "        df = dfun(x)\n",
    "        x = x - f/df\n",
    "        print(k, x)\n",
    "        if np.abs(x-xold) < tol*np.max([np.abs(x+xold), 1]): \n",
    "            return x, k"
   ]
  },
  {
   "cell_type": "markdown",
   "metadata": {},
   "source": [
    "### Example 6.2  \n",
    "Using Newton Raphson method to locate the root of  \n",
    "\n",
    "$ f(x) = e^{-x} - x $"
   ]
  },
  {
   "cell_type": "code",
   "execution_count": 28,
   "metadata": {},
   "outputs": [
    {
     "name": "stdout",
     "output_type": "stream",
     "text": [
      "1 0.0\n",
      "2 0.5\n",
      "3 0.5663110031972182\n",
      "4 0.5671431650348622\n",
      "5 0.5671432904097811\n"
     ]
    },
    {
     "data": {
      "text/plain": [
       "(0.5671432904097811, 5)"
      ]
     },
     "execution_count": 28,
     "metadata": {},
     "output_type": "execute_result"
    }
   ],
   "source": [
    "x, k = newton_raphson_with_derivative(\n",
    "    lambda x: np.exp(-x) - x, lambda x: -np.exp(-x) - 1, 100)\n",
    "\n",
    "x, k"
   ]
  },
  {
   "cell_type": "markdown",
   "metadata": {},
   "source": [
    "### Example 6.3\n",
    "Slowly converging function with Newton Raphson\n",
    "\n",
    "$ f(x) = x^{10} - 1 $"
   ]
  },
  {
   "cell_type": "code",
   "execution_count": 7,
   "metadata": {},
   "outputs": [
    {
     "name": "stdout",
     "output_type": "stream",
     "text": [
      "1 51.65\n",
      "2 46.485\n",
      "3 41.8365\n",
      "4 37.65285\n",
      "5 33.887565\n",
      "6 30.498808500000003\n",
      "7 27.44892765000001\n",
      "8 24.70403488500002\n",
      "9 22.233631396500048\n",
      "10 20.010268256850118\n",
      "11 18.0092414311653\n",
      "12 16.208317288049273\n",
      "13 14.587485559245641\n",
      "14 13.12873700332442\n",
      "15 11.815863303000608\n",
      "16 10.634276972722821\n",
      "17 9.570849275508033\n",
      "18 8.613764348105635\n",
      "19 7.752387913678128\n",
      "20 6.977149123299052\n",
      "21 6.279434213521248\n",
      "22 5.6514907987565435\n",
      "23 5.086341735884172\n",
      "24 4.577707606184198\n",
      "25 4.119936958849513\n",
      "26 3.707943555369608\n",
      "27 3.337149954580646\n",
      "28 3.0034369072551246\n",
      "29 2.703098244970869\n",
      "30 2.4328013995422957\n",
      "31 2.1895547592239963\n",
      "32 1.9706857398116153\n",
      "33 1.7738402370975677\n",
      "34 1.5970313479695077\n",
      "35 1.4388079314270286\n",
      "36 1.298711342726572\n",
      "37 1.1783547156201677\n",
      "38 1.0833497535128551\n",
      "39 1.0236646611841937\n",
      "40 1.002316024177411\n",
      "41 1.0000239342908355\n",
      "42 1.0000000025776001\n",
      "43 1.0\n"
     ]
    },
    {
     "data": {
      "text/plain": [
       "(1.0, 43)"
      ]
     },
     "execution_count": 7,
     "metadata": {},
     "output_type": "execute_result"
    }
   ],
   "source": [
    "x, k = newton_raphson_with_derivative(lambda x: x**10 - 1, lambda x: 10*x**9, 0.5)\n",
    "x, k"
   ]
  },
  {
   "cell_type": "markdown",
   "metadata": {},
   "source": [
    "### divide and average\n",
    "old time method for approximating the square root of any positive number $a.$\n",
    "\n",
    "Consider $f(x) = x^n - a$, then $df/dx = n x^{n-1}$. The Newton Raphson method gives\n",
    "\n",
    "$$x_{i+1} = x_i - \\frac{x_i^n - a}{n x_i^{n-1}} = \\frac{1}{n} \\left [ (n-1) x_i + \\frac{a}{x_i^{n-1}} \\right ]$$\n",
    "\n",
    "For $n = 2$\n",
    "\n",
    "$$ x_{i+1} = \\frac{x_i + a/x_i }{2}$$"
   ]
  },
  {
   "cell_type": "code",
   "execution_count": 8,
   "metadata": {},
   "outputs": [],
   "source": [
    "def square_root(a, tol=1e-6):    \n",
    "    x = a/2\n",
    "    while 1:\n",
    "        xold = x\n",
    "        x = (x + a/x)/2\n",
    "        if np.abs(x-xold) < tol*np.abs(x):\n",
    "            return x"
   ]
  },
  {
   "cell_type": "code",
   "execution_count": 9,
   "metadata": {},
   "outputs": [
    {
     "data": {
      "text/plain": [
       "(1.7320508075688772, 1.7320508075688772)"
      ]
     },
     "execution_count": 9,
     "metadata": {},
     "output_type": "execute_result"
    }
   ],
   "source": [
    "a = 3\n",
    "square_root(a), np.sqrt(a)"
   ]
  },
  {
   "attachments": {
    "image.png": {
     "image/png": "[encoded data removed]"
    }
   },
   "cell_type": "markdown",
   "metadata": {},
   "source": [
    "## 6.3 Secant method\n",
    "\n",
    "![image.png](attachment:image.png)\n",
    "\n",
    "$$ x_{i+1} = x_i - \\frac{f(x_i )}{f'(x_i )}$$\n",
    "\n",
    "$$ f'(x_i ) \\cong  \\frac{f(x_{i-1}) - f(x_i)}{x_{i-1} - x_i}$$ \n",
    "\n",
    "$$ x_{i+1} = x_i - \\frac{f(x_i ) (x_{i-1} - x_i )}{f(x_{i-1}) - f(x_i)}$$"
   ]
  },
  {
   "cell_type": "code",
   "execution_count": 10,
   "metadata": {},
   "outputs": [],
   "source": [
    "def secant(fun, x1, x2=None, tol=1e-6, kmax=100):    \n",
    "    if x2 == None: \n",
    "        x2 = 1.1*x1\n",
    "    f1, f2 = fun(x1), fun(x2)\n",
    "    for k in range(kmax):\n",
    "        x3 = x2 - f2*(x1 - x2)/(f1 - f2)\n",
    "        f3 = fun(x3)\n",
    "#         print(x3)\n",
    "        if np.abs(x2 - x3) < tol*np.abs(x2 + x3):\n",
    "            return x3\n",
    "        x1, f1 = x2, f2\n",
    "        x2, f2 = x3, f3\n",
    "    return None"
   ]
  },
  {
   "cell_type": "code",
   "execution_count": 11,
   "metadata": {},
   "outputs": [
    {
     "data": {
      "text/plain": [
       "1.4142135623480703"
      ]
     },
     "execution_count": 11,
     "metadata": {},
     "output_type": "execute_result"
    }
   ],
   "source": [
    "def fun(x): return x**2 - 2\n",
    "x = secant(fun, 1)\n",
    "x"
   ]
  },
  {
   "cell_type": "markdown",
   "metadata": {},
   "source": [
    "**Modified secant method**\n",
    "\n",
    "$$f'(x_i ) = \\frac{f(x_i + dx)-f(x_i)}{dx}$$\n"
   ]
  },
  {
   "cell_type": "code",
   "execution_count": 12,
   "metadata": {},
   "outputs": [],
   "source": [
    "def modified_secant(func, x, dx=0.1, tol=1e-6, kmax=100):    \n",
    "    for k in range(kmax):\n",
    "        xold = x\n",
    "        f = func(x)\n",
    "        df = (func(x+dx) - f)/dx\n",
    "        x = x - f/df        \n",
    "        if np.abs((x - xold)/x) < tol:\n",
    "            return x, k        "
   ]
  },
  {
   "cell_type": "markdown",
   "metadata": {},
   "source": [
    "### Example 6.4 - 6.5  \n",
    "Determine the mass of the bungee jumper with the drag coefficient of 0.25 kg/m to have a velocity of 36 m/s after 4 s of free fall."
   ]
  },
  {
   "cell_type": "code",
   "execution_count": 13,
   "metadata": {},
   "outputs": [],
   "source": [
    "def free_fall(t, m, cd, g=9.81):\n",
    "    v = np.sqrt(g*m/cd)*np.tanh(np.sqrt(g*cd/m) * t) \n",
    "    return v"
   ]
  },
  {
   "cell_type": "code",
   "execution_count": 14,
   "metadata": {},
   "outputs": [
    {
     "name": "stdout",
     "output_type": "stream",
     "text": [
      "96.94914940448596\n",
      "(96.94914939717373, 4)\n"
     ]
    }
   ],
   "source": [
    "t, v, cd = 4.2, 36, 0.25\n",
    "fun = lambda m: free_fall(t, m, cd) - v\n",
    "m1 = secant(fun, 50)\n",
    "m2 = modified_secant(fun, 50)\n",
    "print(m1)\n",
    "print(m2)"
   ]
  },
  {
   "cell_type": "markdown",
   "metadata": {},
   "source": [
    "## 6.4 Hybrid method - brent method\n",
    "\n",
    "reliability of bracketing method + speed of the open method\n",
    "\n",
    "bisection + secant + interpolation"
   ]
  },
  {
   "cell_type": "code",
   "execution_count": 15,
   "metadata": {},
   "outputs": [],
   "source": [
    "def brent(fun, a, b, tol=1e-6, kmax=100, delta=1e-5):\n",
    "    \n",
    "    fa, fb = fun(a), fun(b)\n",
    "    if fa*fb >= 0:\n",
    "        print('root is not bracketed')\n",
    "        return None\n",
    "    if fa < fb:\n",
    "        a, b, fa, fb = b, a, fb, fa\n",
    "    \n",
    "    c = a\n",
    "    mflag = True\n",
    "    for k in range(kmax):        \n",
    "        \n",
    "        if np.abs(b-a) < tol*np.max([np.abs(b+a),1]): return b\n",
    "        \n",
    "        fc = fun(c)\n",
    "        \n",
    "        print(mflag)\n",
    "        print(\"{:5d}{:15.5f}{:15.5f}{:15.5f}\".format(k, a,c,b))\n",
    "        \n",
    "        if fa != fc and fb != fc: # interpolation\n",
    "            print('interpolation')\n",
    "            s = a*fb*fc/((fa-fb)*(fa-fc)) + b*fc*fa/((fb-fa)*(fb-fc)) + c*fa*fb/((fc-fb)*(fc-fa))\n",
    "            fs = fun(s)\n",
    "        else: # secant\n",
    "            print('secant')\n",
    "            s = b - fb*(b-a)/(fb-fa)\n",
    "            fs = fun(s)\n",
    "            \n",
    "        if ( ( not ( (3*a + b)/4 < s < b ) ) or \n",
    "             ( mflag     and np.abs(s-b) >= np.abs(b-c)/2 ) or \n",
    "             ( not mflag and np.abs(s-b) >= np.abs(c-d)/2 ) or \n",
    "             ( mflag     and np.abs(b-d) < delta ) or\n",
    "             ( not mflag and np.abs(c-d) < delta ) ):\n",
    "            \n",
    "            s = (a+b)/2\n",
    "            fs = fun(s)\n",
    "            mflag = True # if the previous step used the bisection method \n",
    "            \n",
    "        else:            \n",
    "            mflag = False # If the previous step performed interpolation\n",
    "        \n",
    "        d = c\n",
    "        c, fc = b, fb\n",
    "        if fa*fs < 0: b, fb = s, fs\n",
    "        else:         a, fa = s, fs        \n",
    "        if np.abs(fa) < np.abs(fb): a, b, fa, fb = b, a, fb, fa"
   ]
  },
  {
   "cell_type": "code",
   "execution_count": 16,
   "metadata": {},
   "outputs": [
    {
     "name": "stdout",
     "output_type": "stream",
     "text": [
      "True\n",
      "    0        2.00000        2.00000        1.00000\n",
      "secant\n",
      "True\n",
      "    1        1.00000        1.00000        1.50000\n",
      "secant\n",
      "False\n",
      "    2        1.50000        1.50000        1.40000\n",
      "secant\n",
      "True\n",
      "    3        1.45000        1.40000        1.40000\n",
      "secant\n",
      "True\n",
      "    4        1.40000        1.40000        1.42500\n",
      "secant\n",
      "False\n",
      "    5        1.42500        1.42500        1.41416\n",
      "secant\n",
      "True\n",
      "    6        1.41958        1.41416        1.41416\n",
      "secant\n",
      "True\n",
      "    7        1.41687        1.41416        1.41416\n",
      "secant\n",
      "True\n",
      "    8        1.41551        1.41416        1.41416\n",
      "secant\n",
      "True\n",
      "    9        1.41484        1.41416        1.41416\n",
      "secant\n",
      "True\n",
      "   10        1.41450        1.41416        1.41416\n",
      "secant\n",
      "True\n",
      "   11        1.41433        1.41416        1.41416\n",
      "secant\n",
      "True\n",
      "   12        1.41416        1.41416        1.41424\n",
      "secant\n",
      "False\n",
      "   13        1.41424        1.41424        1.41421\n",
      "secant\n",
      "True\n",
      "   14        1.41423        1.41421        1.41421\n",
      "secant\n",
      "True\n",
      "   15        1.41422        1.41421        1.41421\n",
      "secant\n",
      "True\n",
      "   16        1.41422        1.41421        1.41421\n",
      "secant\n"
     ]
    },
    {
     "data": {
      "text/plain": [
       "1.4142135617893559"
      ]
     },
     "execution_count": 16,
     "metadata": {},
     "output_type": "execute_result"
    }
   ],
   "source": [
    "def fun(x): return x**2 - 2\n",
    "brent(fun, 1, 2)"
   ]
  },
  {
   "cell_type": "markdown",
   "metadata": {},
   "source": [
    "## 6.5 Python Function\n",
    "\n",
    "**scipy.optimize**\n",
    "\n",
    "Scalar functions\n",
    "\n",
    ">brentq(f, a, b[, args, xtol, rtol, maxiter, ...])\tFind a root of a function in a bracketing interval using Brent’s method.\n",
    "\n",
    ">bisect(f, a, b[, args, xtol, rtol, maxiter, ...])\tFind root of a function within an interval.\n",
    "\n",
    ">newton(func, x0[, fprime, args, tol, ...])\tFind a zero using the Newton-Raphson or secant method.\n",
    "\n",
    ">fixed_point(func, x0[, args, xtol, maxiter, ...])\tFind a fixed point of the function.\n",
    "\n",
    "Multidimensional\n",
    ">root(fun, x0[, args, method, jac, tol, ...])\tFind a root of a vector function.\n",
    "\n",
    ">fsolve(func, x0[, args, fprime, ...])\tFind the roots of a function.\n"
   ]
  },
  {
   "cell_type": "code",
   "execution_count": 17,
   "metadata": {},
   "outputs": [
    {
     "name": "stdout",
     "output_type": "stream",
     "text": [
      "142.73763310844924 142.73763310844885 142.73763310844942 142.73763310844402\n"
     ]
    }
   ],
   "source": [
    "from scipy.optimize import brentq, bisect, newton\n",
    "\n",
    "def free_fall(t, m, cd, g=9.81):\n",
    "    v = np.sqrt(g*m/cd)*np.tanh(np.sqrt(g*cd/m) * t) \n",
    "    return v\n",
    "\n",
    "func = lambda m: free_fall(4, m, 0.25) - 36\n",
    "m1 = brentq(func, 50, 150)\n",
    "m2 = bisect(func, 50, 150)\n",
    "m3 = newton(func, 100)\n",
    "m4 = secant(func, 100)\n",
    "print(m1, m2, m3, m4)"
   ]
  },
  {
   "cell_type": "markdown",
   "metadata": {},
   "source": [
    "## 6.6 Polynomial\n",
    "\n",
    "$$ c_0 x^n + c_1 x^{n-1} + \\cdots + c_{n-1} x + c_n$$\n",
    "\n",
    "- poly1d(c_or_r[, r, variable]) : A one-dimensional polynomial class.\n",
    "- polyval(p, x) : Evaluate a polynomial at specific values.\n",
    "- poly(seq_of_zeros) : Find the coefficients of a polynomial with the given sequence of roots.\n",
    "- roots(p) : Return the roots of a polynomial with coefficients given in p.\n",
    "\n",
    "Fitting\n",
    "- polyfit(x, y, deg[, rcond, full, w, cov]) : Least squares polynomial fit.\n",
    "\n",
    "Calculus\n",
    "- polyder(p[, m]) : Return the derivative of the specified order of a polynomial.\n",
    "- polyint(p[, m, k]) : Return an antiderivative (indefinite integral) of a polynomial.\n",
    "\n",
    "Arithmetic\n",
    "- polyadd(a1, a2) : Find the sum of two polynomials.\n",
    "- polydiv(u, v) : Returns the quotient and remainder of polynomial division.\n",
    "- polymul(a1, a2) : Find the product of two polynomials.\n",
    "- polysub(a1, a2) : Difference (subtraction) of two polynomials."
   ]
  },
  {
   "cell_type": "code",
   "execution_count": 18,
   "metadata": {},
   "outputs": [
    {
     "name": "stdout",
     "output_type": "stream",
     "text": [
      "-0.53136 -0.53136\n"
     ]
    },
    {
     "data": {
      "image/png": "[encoded data removed]",
      "text/plain": [
       "<Figure size 432x288 with 1 Axes>"
      ]
     },
     "metadata": {},
     "output_type": "display_data"
    }
   ],
   "source": [
    "#%% example 6.8 : evaluate at x\n",
    "# p(x) = 1.25 − 3.875 x + 2.125 x^2 + 2.75 x^3 − 3.5 x^4 + x^5\n",
    "a = [1, -3.5, 2.75, 2.125, -3.875, 1.25]\n",
    "x = np.linspace(-1.2, 2.1, 100)\n",
    "y = np.polyval(a, x)\n",
    "plt.plot(x, y)\n",
    "\n",
    "# evaluate \n",
    "\n",
    "# Horner method\n",
    "def horner(p, x):\n",
    "    n = len(p)\n",
    "    r = p[0]\n",
    "    for i in range(1,n):\n",
    "        r = p[i] + x*r\n",
    "    return r\n",
    "\n",
    "print(horner(a, 1.4), np.polyval(a, 1.4))    "
   ]
  },
  {
   "cell_type": "code",
   "execution_count": 19,
   "metadata": {},
   "outputs": [
    {
     "data": {
      "text/plain": [
       "array([ 2. +0.j , -1. +0.j ,  1. +0.5j,  1. -0.5j,  0.5+0.j ])"
      ]
     },
     "execution_count": 19,
     "metadata": {},
     "output_type": "execute_result"
    }
   ],
   "source": [
    "# roots of polynomial\n",
    "x = np.roots(a)\n",
    "x"
   ]
  },
  {
   "cell_type": "code",
   "execution_count": 20,
   "metadata": {},
   "outputs": [
    {
     "name": "stdout",
     "output_type": "stream",
     "text": [
      "[ 1.   0.5 -0.5]\n"
     ]
    }
   ],
   "source": [
    "#%% (x - 0.5)(x + 1) = x^2 + 0.5*x - 0.5\n",
    "print( np.poly([0.5, -1]))"
   ]
  },
  {
   "cell_type": "code",
   "execution_count": 21,
   "metadata": {},
   "outputs": [
    {
     "name": "stdout",
     "output_type": "stream",
     "text": [
      "[ 1.   -4.    5.25 -2.5 ]\n",
      "[0.]\n",
      "[2.+0.j  1.+0.5j 1.-0.5j]\n"
     ]
    }
   ],
   "source": [
    "#%% q, r = a / b\n",
    "a = [1, -3.5, 2.75, 2.125, -3.875, 1.25]\n",
    "b = [1, 0.5, -0.5]\n",
    "\n",
    "q, r = np.polydiv(a, b)\n",
    "print(q)\n",
    "print(r)\n",
    "\n",
    "x = np.roots(q)\n",
    "print(x)"
   ]
  },
  {
   "cell_type": "code",
   "execution_count": 22,
   "metadata": {},
   "outputs": [
    {
     "name": "stdout",
     "output_type": "stream",
     "text": [
      "[ 1.    -3.5    2.75   2.125 -3.875  1.25 ]\n",
      "[1, -3.5, 2.75, 2.125, -3.875, 1.25]\n"
     ]
    }
   ],
   "source": [
    "#%% \n",
    "print(np.polymul(q, b))\n",
    "print(a)"
   ]
  },
  {
   "cell_type": "code",
   "execution_count": 23,
   "metadata": {},
   "outputs": [
    {
     "name": "stdout",
     "output_type": "stream",
     "text": [
      "[ 2. +0.j  -1. +0.j   1. +0.5j  1. -0.5j  0.5+0.j ]\n"
     ]
    }
   ],
   "source": [
    "# determine all roots\n",
    "x = np.roots(a)\n",
    "print(x)"
   ]
  },
  {
   "cell_type": "markdown",
   "metadata": {},
   "source": [
    "### Case Study 6.7  Darcy friction factor formulae\n",
    "\n",
    "$$h_L = f \\frac{L}{D} \\frac{V^2}{2 g}$$\n",
    "\n",
    "$$ Re = \\frac{\\rho V D}{\\mu} \\quad RR = \\frac{\\epsilon}{D}$$\n",
    "\n",
    "Colebrook \n",
    "$$ {\\displaystyle {\\frac {1}{\\sqrt {f}}}=-2\\log \\left({\\frac {\\varepsilon }{3.7D_{\\mathrm {h} }}}+{\\frac {2.51}{\\mathrm {Re} {\\sqrt {f}}}}\\right)} $$\n",
    "Haaland\n",
    "$$ {\\displaystyle {\\frac {1}{\\sqrt {f}}}=-1.8\\log \\left[\\left({\\frac {\\varepsilon /D}{3.7}}\\right)^{1.11}+{\\frac {6.9}{\\mathrm {Re} }}\\right]} $$"
   ]
  },
  {
   "cell_type": "code",
   "execution_count": 24,
   "metadata": {},
   "outputs": [],
   "source": [
    "def moody(Re, RR=0, tol=1e-6):\n",
    "    if Re < 2300: \n",
    "        return 64/Re\n",
    "    x = -1.8*np.log10((RR/3.7)**(1.11) + 6.9/Re)\n",
    "    b = RR/3.7\n",
    "    a = 2.51/Re\n",
    "    while 1:\n",
    "        xold = x\n",
    "        x = -2*np.log10(a*x + b)\n",
    "        if np.abs(x-xold) < tol*np.abs(x):\n",
    "            return 1/x**2"
   ]
  },
  {
   "cell_type": "code",
   "execution_count": 25,
   "metadata": {},
   "outputs": [
    {
     "data": {
      "text/plain": [
       "(13743.016759776536, 0.00030000000000000003, 0.02896780887004342)"
      ]
     },
     "execution_count": 25,
     "metadata": {},
     "output_type": "execute_result"
    }
   ],
   "source": [
    "rho, mu = 1.23, 1.79e-5  # air\n",
    "D, V, e = 0.005, 40, 0.0015e-3 # diameter, velocity, roughness\n",
    "Re = rho*V*D/mu # Reynolds number\n",
    "RR = e/D # relative roughness\n",
    "Re, RR, moody(Re, RR)"
   ]
  },
  {
   "cell_type": "markdown",
   "metadata": {},
   "source": [
    "$$ V_d^2 A_d \\rho - V_u^2 A_d \\rho - V_b^2 A_b \\rho \\cos \\beta  = (p_u - p_d ) A_d$$\n",
    "\n",
    "$$ p_{loss} = \\frac{V_d^2 \\rho}{2} \\left [  1 - \\left ( \\frac{V_u}{V_d} \\right )^ 2 \\right ] $$\n",
    "\n",
    "$$ p_{loss} = \\frac{V_d^2 \\rho}{2} \\left [  1.5 \\left ( \\frac{A_d}{A_b} \\right )^ 2 - 1\\right ] $$\n"
   ]
  },
  {
   "cell_type": "code",
   "execution_count": null,
   "metadata": {},
   "outputs": [],
   "source": []
  }
 ],
 "metadata": {
  "kernelspec": {
   "display_name": "Python 3",
   "language": "python",
   "name": "python3"
  },
  "language_info": {
   "codemirror_mode": {
    "name": "ipython",
    "version": 3
   },
   "file_extension": ".py",
   "mimetype": "text/x-python",
   "name": "python",
   "nbconvert_exporter": "python",
   "pygments_lexer": "ipython3",
   "version": "3.8.8"
  }
 },
 "nbformat": 4,
 "nbformat_minor": 2
}
