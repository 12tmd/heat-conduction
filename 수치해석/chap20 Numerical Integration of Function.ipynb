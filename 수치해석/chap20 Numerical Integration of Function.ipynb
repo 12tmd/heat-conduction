{
 "cells": [
  {
   "cell_type": "markdown",
   "metadata": {},
   "source": [
    "# Chapter 20 Numerical Integration of Function"
   ]
  },
  {
   "cell_type": "code",
   "execution_count": 2,
   "metadata": {},
   "outputs": [],
   "source": [
    "import numpy as np\n",
    "import matplotlib.pyplot as plt\n",
    "plt.style.use('seaborn-whitegrid')\n",
    "%matplotlib inline"
   ]
  },
  {
   "cell_type": "markdown",
   "metadata": {},
   "source": [
    "### 반복 사다리꼴 규칙\n",
    "$J_k$를 구간 $(a, b)$를 $2^k$ 구간으로 나누어 적분한 결과라 하면 \n",
    "\n",
    "$$k = 0, \\qquad h_0 = b-a, \\quad J_0 = \\frac{h}{2} (f(a) + f(b))$$\n",
    "$$k = 1, \\qquad h_1 = \\frac{h_0}{2}, \\quad J_1 = \\frac{J_0}{2} + h_1 f(a+h_1)$$\n",
    "$$k = 2, \\qquad h_2 = \\frac{h_1}{2}, \\quad J_2 = \\frac{J_1}{2} + h_2 [f(a+h_2) + f(a+3h_2)]$$\n",
    "\n",
    "즉 다음 식이 성립한다. \n",
    "\n",
    "$$ J_k  = \\frac{J_{k-1}}{2} + h_k \\sum f(x_{new})$$"
   ]
  },
  {
   "cell_type": "code",
   "execution_count": 3,
   "metadata": {},
   "outputs": [],
   "source": [
    "def trapz_iter(fun, a, b, tol=1e-3, kmax=10):\n",
    "    h = (b - a)\n",
    "    Jold = h/2*(fun(a) + fun(b))\n",
    "    for k in range(kmax):\n",
    "        h = h/2        \n",
    "        x = np.arange(a + h, b - h/2, 2*h)\n",
    "        f = fun(x)\n",
    "        J = Jold/2 + h*np.sum(f)\n",
    "        if abs((J-Jold)/J) < tol:\n",
    "            return J, k\n",
    "        Jold = J\n",
    "    print('too many iteration')"
   ]
  },
  {
   "cell_type": "markdown",
   "metadata": {},
   "source": [
    "### Example\n",
    "$$\\int_0^{\\pi} e^{-x^2} \\sin(x) dx$$"
   ]
  },
  {
   "cell_type": "code",
   "execution_count": 4,
   "metadata": {},
   "outputs": [
    {
     "name": "stdout",
     "output_type": "stream",
     "text": [
      "(0.42443751077246467, 2.2123286753150863e-09)\n",
      "(0.4243873052464412, 6)\n"
     ]
    }
   ],
   "source": [
    "from scipy.integrate import quad\n",
    "\n",
    "def fun(x):\n",
    "    return np.sin(x)*np.exp(-x**2)\n",
    "\n",
    "a, b = 0, np.pi\n",
    "res1 = quad(fun, a, b)\n",
    "print(res1)\n",
    "res2 = trapz_iter(fun, a, b)\n",
    "print(res2)"
   ]
  },
  {
   "cell_type": "markdown",
   "metadata": {},
   "source": [
    "위 결과를 보면 구간을 7회에 결쳐 반분, 즉 $2^7$ 개의 구간으로 나누어 계산한 결과가 순차적으로 표시되어 있고 최종 결과는 **quad**와 유사하다. 즉 원하는 정확도를 얻기 위해서는 구간을 많은 수로 나누어야 하는데 보다 개선된 방법이 Romberg 적분이다. "
   ]
  },
  {
   "cell_type": "markdown",
   "metadata": {},
   "source": [
    "### Romberg Integration\n",
    "Romberg 적분은 반복 사다리꼴 공식과 Richardson extrapolation을 결합한 것이다. 그 결과만 나타내면\n",
    "\n",
    "$$ R_{i,j} = \\frac{4^{j-1} R_{i,j-1} - R_{i-1,j-1}}{4^{j-1}-1} $$"
   ]
  },
  {
   "cell_type": "code",
   "execution_count": 5,
   "metadata": {},
   "outputs": [],
   "source": [
    "def romberg(fun, a, b, kmax=10, tol=1e-3):\n",
    "    R = np.zeros((kmax, kmax))\n",
    "    h = b - a\n",
    "    R[0,0] = h/2*(fun(a) + fun(b))\n",
    "    for i in range(1, kmax):\n",
    "        h /= 2\n",
    "        x = np.arange(a + h, b - h/2, 2*h)\n",
    "        f = fun(x)\n",
    "        R[i,0] = R[i-1,0]/2 + h*np.sum(f)\n",
    "        for j in range(1, i+1):\n",
    "            c = 4**j\n",
    "            R[i,j] = (c*R[i,j-1] - R[i-1,j-1])/(c - 1)        \n",
    "        if np.abs(R[i,i] - R[i-1,i-1]) < tol*np.max([1, np.abs(R[i,i])]):\n",
    "            return R[i,i], R[:i+1, :i+1]\n",
    "    return None"
   ]
  },
  {
   "cell_type": "code",
   "execution_count": 6,
   "metadata": {},
   "outputs": [
    {
     "name": "stdout",
     "output_type": "stream",
     "text": [
      "0.42443751077246467\n",
      "(0.4243873052464412, 6)\n",
      "0.4244289079516322\n",
      "[[0.     0.     0.     0.     0.    ]\n",
      " [0.1332 0.1776 0.     0.     0.    ]\n",
      " [0.3685 0.4469 0.4648 0.     0.    ]\n",
      " [0.4113 0.4256 0.4242 0.4236 0.    ]\n",
      " [0.4212 0.4245 0.4244 0.4244 0.4244]]\n"
     ]
    }
   ],
   "source": [
    "a, b = 0, np.pi\n",
    "res1 = quad(fun, a, b)\n",
    "print(res1[0])\n",
    "res2 = trapz_iter(fun, a, b)\n",
    "print(res2)\n",
    "res3 = romberg(fun, a, b)\n",
    "print(res3[0])\n",
    "print(np.round(res3[1],4))"
   ]
  },
  {
   "cell_type": "markdown",
   "metadata": {},
   "source": [
    "### Planetary Orbit\n",
    "Kepler' law\n",
    "\n",
    "- The orbit of a planet is an ellipse with the Sun at one of the two foci.\n",
    "- A line segment joining a planet and the Sun sweeps out equal areas during equal intervals of time.\n",
    "- The square of the orbital period of a planet is directly proportional to the cube of the semi-major axis of its orbit.\n",
    "\n",
    "$$ 2 \\pi t = P (\\theta - e \\sin(\\theta)$$\n",
    "$$x = a \\cos(\\theta), \\quad y = b \\sin(\\theta), \\quad b^2 = a^2 (1- e^2)$$\n",
    "\n",
    "arc length\n",
    "\n",
    "$$L = \\int_{\\theta_1}^{\\theta_2} \\sqrt{(x')^2 +(y')^2} d \\theta $$"
   ]
  },
  {
   "cell_type": "code",
   "execution_count": 7,
   "metadata": {},
   "outputs": [],
   "source": [
    "def secant(func, x1, x2, tol=1e-6):    \n",
    "    f1, f2 = func(x1), func(x2)\n",
    "    k = 0\n",
    "    while 1:\n",
    "        k += 1\n",
    "        x3 = x2 - f2*(x1 - x2)/(f1 - f2)\n",
    "        f3 = func(x3)\n",
    "        if np.abs(x1 - x3) < tol*np.max([1, np.abs(x3)]):\n",
    "            return x3, k\n",
    "        x1, f1 = x2, f2\n",
    "        x2, f2 = x3, f3"
   ]
  },
  {
   "cell_type": "code",
   "execution_count": 8,
   "metadata": {},
   "outputs": [
    {
     "name": "stdout",
     "output_type": "stream",
     "text": [
      "  10.00      1.07    0.8857\n",
      "  20.00      1.75    0.6733\n",
      "  30.00      2.27    0.4968\n",
      "  40.00      2.72    0.3829\n",
      "  50.00      3.14    0.3243\n",
      "  60.00      3.56    0.3243\n",
      "  70.00      4.01    0.3829\n",
      "  80.00      4.53    0.4968\n",
      "  90.00      5.22    0.6733\n",
      " 100.00      6.28    0.8857\n",
      "5.5258557104110295\n"
     ]
    },
    {
     "data": {
      "image/png": "[encoded data removed]",
      "text/plain": [
       "<Figure size 432x288 with 1 Axes>"
      ]
     },
     "metadata": {
      "needs_background": "light"
     },
     "output_type": "display_data"
    }
   ],
   "source": [
    "P, e, a = 100, 0.5, 1\n",
    "# b = a*np.sqrt(1-e*e)\n",
    "b = 3/4\n",
    "r = np.linspace(0, 2*np.pi)\n",
    "plt.plot(a*np.cos(r), b*np.sin(r))\n",
    "\n",
    "fun = lambda r, t: 2*np.pi*t - P*(r - e*np.sin(r))\n",
    "\n",
    "r = []\n",
    "t = np.linspace(0, P, 11)\n",
    "for t1 in t:\n",
    "    r1, k = secant(lambda r: fun(r, t1), 1, 2)\n",
    "    x = a*np.cos(r1)\n",
    "    y = b*np.sin(r1)\n",
    "    \n",
    "    plt.plot(x, y, 'o')\n",
    "    plt.plot([e*a, x],[0, y])\n",
    "              \n",
    "    r.append(r1)\n",
    "\n",
    "fun = lambda r: np.sqrt((a*np.sin(r))**2 + (b*np.cos(r))**2)    \n",
    "s =[]\n",
    "for i in range(1, len(r)):\n",
    "    s1, k = romberg(fun, r[i-1], r[i])\n",
    "    s.append(s1)\n",
    "    \n",
    "for i in range(1, len(r)):\n",
    "    print(\"{:>7.2f}{:10.2f}{:10.4f}\".format(t[i], r[i], s[i-1]))\n",
    "    \n",
    "print(np.sum(s))    \n",
    "plt.show()"
   ]
  },
  {
   "cell_type": "markdown",
   "metadata": {},
   "source": [
    "### Gauss Quadrature"
   ]
  },
  {
   "cell_type": "code",
   "execution_count": 9,
   "metadata": {},
   "outputs": [],
   "source": [
    "def gauss_quad1(fun, a, b):\n",
    "    p = np.array([-0.7745966692, 0.0000000000, 0.7745966692])\n",
    "    w = np.array([ 0.5555555556, 0.8888888889, 0.5555555556])\n",
    "    x = (b+a)/2 + (b-a)/2*p\n",
    "    f = fun(x)\n",
    "    res = np.dot(w,f)*(b-a)/2.\n",
    "    return res"
   ]
  },
  {
   "cell_type": "code",
   "execution_count": 10,
   "metadata": {},
   "outputs": [
    {
     "name": "stdout",
     "output_type": "stream",
     "text": [
      "-1.0774420349024538e-05\n"
     ]
    }
   ],
   "source": [
    "from scipy.special import erf\n",
    "def fun(x): return 2/np.sqrt(np.pi)*np.exp(-x**2)\n",
    "a, b = 0, 1\n",
    "J = gauss_quad1(fun, a, b)\n",
    "print(J - erf(1))"
   ]
  },
  {
   "cell_type": "code",
   "execution_count": 11,
   "metadata": {},
   "outputs": [
    {
     "name": "stdout",
     "output_type": "stream",
     "text": [
      "    n                node              weight\n",
      "\n",
      "    2       -0.5773502692        1.0000000000\n",
      "             0.5773502692        1.0000000000\n",
      "\n",
      "    3       -0.7745966692        0.5555555556\n",
      "             0.0000000000        0.8888888889\n",
      "             0.7745966692        0.5555555556\n",
      "\n",
      "    4       -0.8611363116        0.3478548451\n",
      "            -0.3399810436        0.6521451549\n",
      "             0.3399810436        0.6521451549\n",
      "             0.8611363116        0.3478548451\n",
      "\n",
      "    5       -0.9061798459        0.2369268851\n",
      "            -0.5384693101        0.4786286705\n",
      "             0.0000000000        0.5688888889\n",
      "             0.5384693101        0.4786286705\n",
      "             0.9061798459        0.2369268851\n",
      "\n",
      "    6       -0.9324695142        0.1713244924\n",
      "            -0.6612093865        0.3607615730\n",
      "            -0.2386191861        0.4679139346\n",
      "             0.2386191861        0.4679139346\n",
      "             0.6612093865        0.3607615730\n",
      "             0.9324695142        0.1713244924\n"
     ]
    }
   ],
   "source": [
    "from scipy.special import roots_legendre\n",
    "print(\"{0:>5s}{1:>20s}{2:>20s}\".format('n', 'node','weight'))  \n",
    "for n in range(2, 7):\n",
    "    print('')\n",
    "    node, weight = roots_legendre(n)\n",
    "    for i in range(n):\n",
    "        if i == 0:\n",
    "            print(\"{0:5d}{1:20.10f}{2:20.10f}\"\n",
    "                  .format(n, node[i], weight[i]))\n",
    "        else:\n",
    "            print(\"{0:5s}{1:20.10f}{2:20.10f}\"\n",
    "                  .format(\"\", node[i], weight[i]))        "
   ]
  },
  {
   "cell_type": "markdown",
   "metadata": {},
   "source": [
    "### Gauss quadrature using Quadrilateral Element"
   ]
  },
  {
   "cell_type": "code",
   "execution_count": 12,
   "metadata": {},
   "outputs": [],
   "source": [
    "def gauss_quad2(fun, xd, yd, n=3):\n",
    "    node, weight = roots_legendre(n)\n",
    "    X = np.vstack([xd, yd]).T\n",
    "    res = 0.0\n",
    "    for i in range(n):\n",
    "        s, ws = node[i], weight[i]\n",
    "        for j in range(n):\n",
    "            t, wt = node[j], weight[j]\n",
    "            N = np.array(\n",
    "                [(1-s)*(1-t), (1+s)*(1-t),\n",
    "                 (1+s)*(1+t), (1-s)*(1+t)])/4.0\n",
    "            \n",
    "            x, y = np.matmul(N, X)\n",
    "            f = fun(x, y)\n",
    "            \n",
    "            dN = np.array(\n",
    "                [[-1+t,  1-t, 1+t, -1-t],\n",
    "                 [-1+s, -1-s, 1+s,  1-s]])/4.0\n",
    "            J = np.matmul(dN, X)\n",
    "            dJ = J[0,0]*J[1,1] - J[0,1]*J[1,0]\n",
    "            \n",
    "            res = res + ws*wt*f*dJ\n",
    "    return res"
   ]
  },
  {
   "cell_type": "code",
   "execution_count": 13,
   "metadata": {},
   "outputs": [
    {
     "data": {
      "text/plain": [
       "13.666666666666663"
      ]
     },
     "execution_count": 13,
     "metadata": {},
     "output_type": "execute_result"
    }
   ],
   "source": [
    "def fun(x,y): return x**2 + y\n",
    "xd = np.array([0, 2, 2, 0])\n",
    "yd = np.array([0, 0, 3, 2])\n",
    "\n",
    "res = gauss_quad2(fun, xd, yd)\n",
    "res"
   ]
  },
  {
   "cell_type": "markdown",
   "metadata": {},
   "source": [
    "### Adaptive Quadrature"
   ]
  },
  {
   "cell_type": "code",
   "execution_count": 14,
   "metadata": {},
   "outputs": [],
   "source": [
    "def quad_adapt(fun, a, b, tol=1e-3):\n",
    "    \n",
    "    def simp(f): return (f[0] + 4*f[1] + f[2])/3\n",
    "\n",
    "    def recur(fun, x, f, W, tol):        \n",
    "        h = (x[1] - x[0])/2\n",
    "        x = np.array([x[0], x[0]+h,    x[1], x[1]+h,    x[2]])\n",
    "        f = np.array([f[0], fun(x[1]), f[1], fun(x[3]), f[2]])\n",
    "        plt.plot(x, f, '.')\n",
    "        L = simp(f[:3])*h\n",
    "        R = simp(f[2:])*h\n",
    "        err = (L + R - W)/15\n",
    "        if np.abs(err) < tol: return L + R + err\n",
    "        L = recur(fun, x[:3],  f[:3],  L, tol/2)\n",
    "        R = recur(fun, x[-3:], f[-3:], R, tol/2)\n",
    "        return L + R\n",
    "    \"\"\" main \"\"\"    \n",
    "    h = (b - a)/2\n",
    "    x = np.array([a, a+h, b])\n",
    "    f = fun(x)\n",
    "    W = simp(f)*h\n",
    "    return recur(fun, x, f, W, tol/2)"
   ]
  },
  {
   "cell_type": "code",
   "execution_count": 15,
   "metadata": {},
   "outputs": [
    {
     "data": {
      "text/plain": [
       "1.2594704354494726"
      ]
     },
     "execution_count": 15,
     "metadata": {},
     "output_type": "execute_result"
    },
    {
     "data": {
      "image/png": "[encoded data removed]",
      "text/plain": [
       "<Figure size 432x288 with 1 Axes>"
      ]
     },
     "metadata": {
      "needs_background": "light"
     },
     "output_type": "display_data"
    }
   ],
   "source": [
    "def fun(x): return 1/4*np.pi*x**4*np.cos(1/4*np.pi*x)\n",
    "a, b = 0, 2\n",
    "\n",
    "x = np.linspace(a, b, 100)\n",
    "plt.plot(x, fun(x))\n",
    "\n",
    "J = quad_adapt(fun, a, b, tol=1e-3)\n",
    "plt.grid('on');\n",
    "J"
   ]
  },
  {
   "cell_type": "markdown",
   "metadata": {},
   "source": [
    "## Gauss-Kronrod quadrature"
   ]
  },
  {
   "cell_type": "code",
   "execution_count": 16,
   "metadata": {},
   "outputs": [],
   "source": [
    "K = np.array([\n",
    "    [0.991455371120813, 0.022935322010529, 0.               ],\n",
    "    [0.949107912342759, 0.063092092629979, 0.129484966168870],\n",
    "    [0.864864423359769, 0.104790010322250, 0.               ],\n",
    "    [0.741531185599394, 0.140653259715525, 0.279705391489277],\n",
    "    [0.586087235467691, 0.169004726639267, 0.               ],\n",
    "    [0.405845151377397, 0.190350578064785, 0.381830050505119],\n",
    "    [0.207784955007898, 0.204432940075298, 0.               ],\n",
    "    [0.000000000000000, 0.209482141084728, 0.417959183673469]])\n",
    "\n",
    "NODE = np.r_[-K[:-1, 0], K[-1::-1, 0]]\n",
    "KW   = np.r_[ K[:-1, 1], K[-1::-1, 1]]\n",
    "GW   = np.r_[ K[:-1, 2], K[-1::-1, 2]][1::2]\n",
    "\n",
    "\n",
    "def g7k15(fun, a, b):\n",
    "    \"\"\" (G7, K15) Gauss–Kronrod quadrature \"\"\"\n",
    "    c1, c2 = (b + a)/2, (b - a)/2\n",
    "    x = c1 + c2*NODE\n",
    "    f = fun(x)\n",
    "    q1 = np.dot(KW, f)*c2\n",
    "    q2 = np.dot(GW, f[1:-1:2])*c2\n",
    "    return q1, np.abs(q1 - q2)\n",
    "\n",
    "def quad_agk(fun, a, b, tol):\n",
    "    \"\"\" adaptive Gauss–Kronrod quadrature (G7, K15) \"\"\"\n",
    "    # print(a, b)\n",
    "    Q, err = g7k15(fun, a, b)\n",
    "    if err > tol:\n",
    "        m = (a + b)/2\n",
    "        Q = quad_agk(fun, a, m, tol/2) + quad_agk(fun, m, b, tol/2)\n",
    "    return Q\n"
   ]
  },
  {
   "cell_type": "code",
   "execution_count": 17,
   "metadata": {},
   "outputs": [
    {
     "name": "stdout",
     "output_type": "stream",
     "text": [
      "1.9999999999999956\n"
     ]
    }
   ],
   "source": [
    "I = quad_agk(np.sin, 0, 5*np.pi, 1e-9)\n",
    "print(I)"
   ]
  },
  {
   "cell_type": "code",
   "execution_count": null,
   "metadata": {},
   "outputs": [],
   "source": []
  }
 ],
 "metadata": {
  "kernelspec": {
   "display_name": "Python 3",
   "language": "python",
   "name": "python3"
  },
  "language_info": {
   "codemirror_mode": {
    "name": "ipython",
    "version": 3
   },
   "file_extension": ".py",
   "mimetype": "text/x-python",
   "name": "python",
   "nbconvert_exporter": "python",
   "pygments_lexer": "ipython3",
   "version": "3.8.8"
  }
 },
 "nbformat": 4,
 "nbformat_minor": 2
}
