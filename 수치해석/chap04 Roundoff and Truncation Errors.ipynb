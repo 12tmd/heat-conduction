{
 "cells": [
  {
   "cell_type": "markdown",
   "metadata": {},
   "source": [
    "# Chapter 4 Roundoff and Truncation Errors\n",
    "\n",
    "*Mechanical*  **engineering** \n",
    "\n",
    "---\n",
    "- Numerical method\n",
    "- Fluid mechanics\n",
    "---"
   ]
  },
  {
   "cell_type": "code",
   "execution_count": 1,
   "metadata": {},
   "outputs": [],
   "source": [
    "import numpy as np\n",
    "import matplotlib.pyplot as plt"
   ]
  },
  {
   "cell_type": "code",
   "execution_count": 2,
   "metadata": {},
   "outputs": [
    {
     "data": {
      "text/plain": [
       "1.111"
      ]
     },
     "execution_count": 2,
     "metadata": {},
     "output_type": "execute_result"
    }
   ],
   "source": [
    "1.111"
   ]
  },
  {
   "cell_type": "markdown",
   "metadata": {},
   "source": [
    "## Errors\n",
    "\n",
    "$$\\epsilon_t = \\frac{\\mbox{true value} - \\mbox{approximation} }{\\mbox{true value}}$$\n",
    "\n",
    "$$\\epsilon_{a,r} = \\mbox{present approximation} - \\mbox{previous approximation}$$\n",
    "\n",
    "$$\\epsilon_{a, a} = \\frac{\\mbox{present approximation} - \\mbox{previous approximation} }{\\mbox{present approximation}}$$"
   ]
  },
  {
   "cell_type": "code",
   "execution_count": 12,
   "metadata": {},
   "outputs": [
    {
     "name": "stdout",
     "output_type": "stream",
     "text": [
      "3.3166247903554 -4.485333639353768e-09\n"
     ]
    }
   ],
   "source": [
    "a = 11\n",
    "x = 1\n",
    "while 1:\n",
    "    xold = x\n",
    "    x = (x + a/x)/2\n",
    "    e = (x-xold)/x\n",
    "    if np.abs(e) < 1e-6:\n",
    "        break\n",
    "        \n",
    "print(x, e)"
   ]
  },
  {
   "cell_type": "markdown",
   "metadata": {},
   "source": [
    "## Review of Taylor Series\n",
    "\n",
    "$$\\begin{align} f(x) &= f(c) + f'(c) (x-c) + \\frac{1}{2!} f''(c) (x-c)^2 + \\frac{1}{3!} f'''(c) (x-c)^3 + \\cdots \\\\\n",
    "                     &= \\sum_{k=0}^{\\infty} \\frac{1}{k!} f^{(k)}(c) (x-c)^k \\end{align}$$\n",
    "\n",
    "If $c=0$, MacLaurin series\n",
    "\n",
    "$$\\begin{align} f(x) &= f(0) + f'(0) x + \\frac{1}{2!} f''(0) x^2 + \\frac{1}{3!} f'''(0) x^3 + \\cdots \\\\\n",
    "                     &= \\sum_{k=0}^{\\infty} \\frac{1}{k!} f^{(k)}(0) x^k \\end{align}$$\n",
    "Familar examples of MacLaurin series                     \n",
    "$$\\begin{align} e^x     &= \\sum_{k=0}^{\\infty} \\frac{x^k}{k!} = 1 + x + \\frac{x^2}{2!} + \\frac{x^3}{3!} + \\cdots \\\\\n",
    "                \\sin(x) &= \\sum_{k=0}^{\\infty} (-1)^k \\frac{x^{2k+1}}{(2k+1)!} = x - \\frac{x^3}{3!} + \\frac{x^5}{5!} + \\cdots \\\\\n",
    "                \\cos(x) &= \\sum_{k=0}^{\\infty} (-1)^k \\frac{x^{2k}}{(2k)!} = 1 - \\frac{x^2}{2!} + \\frac{x^4}{4!} + \\cdots \\\\\n",
    "                \\frac{1}{1-x} &= \\sum_{k=0}^{\\infty} x^k  = 1 + x + x^2 + x^3 + \\cdots \\\\\n",
    "\\end{align}$$                     \n",
    "\n",
    "                     \n",
    "                     \n",
    "                     "
   ]
  },
  {
   "cell_type": "markdown",
   "metadata": {},
   "source": [
    "## Example 4.1 반복법에서 오차 추정\n",
    "\n",
    "Maclaurin series\n",
    "$$ e^x = 1 + x + \\frac{x^2}{2} + \\frac{x^3}{3!} + \\cdots + \\frac{x^n}{n!} $$"
   ]
  },
  {
   "cell_type": "code",
   "execution_count": 4,
   "metadata": {},
   "outputs": [
    {
     "name": "stdout",
     "output_type": "stream",
     "text": [
      "1.6487212707001282\n",
      "1.5 1.625 1.6458333333333333 1.6484375\n",
      "0.09020401043104989 0.014387677966970715 0.0017516225562908972 0.00017211562995586948\n",
      "0.07692307692307693 0.012658227848101222 0.00157977883096371\n"
     ]
    }
   ],
   "source": [
    "x = 0.5\n",
    "ye = np.exp(x)\n",
    "print(ye)\n",
    "y1 = 1 + x\n",
    "y2 = y1 + x**2/(2*1)\n",
    "y3 = y2 + x**3/(3*2*1)\n",
    "y4 = y3 + x**4/(4*3*2*1)\n",
    "\n",
    "print(y1, y2, y3, y4)\n",
    "print(np.abs((y1-ye)/ye), np.abs((y2-ye)/ye), np.abs((y3-ye)/ye), np.abs((y4-ye)/ye))\n",
    "print(np.abs((y1-y2)/y2), np.abs((y2-y3)/y3), np.abs((y3-y4)/y4))"
   ]
  },
  {
   "cell_type": "code",
   "execution_count": 13,
   "metadata": {},
   "outputs": [
    {
     "name": "stdout",
     "output_type": "stream",
     "text": [
      "   no        approx.            e_t           e_aa           e_ar\n",
      "    3    1.62500e+00    1.43877e-02    1.25000e-01    7.69231e-02\n",
      "    4    1.64583e+00    1.75162e-03    2.08333e-02    1.26582e-02\n",
      "    5    1.64844e+00    1.72116e-04    2.60417e-03    1.57978e-03\n",
      "    6    1.64870e+00    1.41649e-05    2.60417e-04    1.57953e-04\n",
      "    7    1.64872e+00    1.00238e-06    2.17014e-05    1.31626e-05\n",
      "    8    1.64872e+00    6.21969e-08    1.55010e-06    9.40183e-07\n",
      "    9    1.64872e+00    3.43549e-09    9.68812e-08    5.87614e-08\n",
      "1.6487212650359622 1.6487212707001282\n"
     ]
    }
   ],
   "source": [
    "def exp(x, tol=1e-6):\n",
    "    true = np.exp(x)\n",
    "    \n",
    "    s = 1 + x\n",
    "    f = 1\n",
    "    xx = x\n",
    "    i = 1\n",
    "    while 1:\n",
    "        i += 1\n",
    "        f *= i\n",
    "        xx *= x        \n",
    "        term = xx/f\n",
    "        s += term       \n",
    "        \n",
    "        e_t = (true - s)/true\n",
    "        e_aa = term\n",
    "        e_ar = term/s\n",
    "        \n",
    "        print(fmt2.format(i+1, s, e_t, e_aa, e_ar))\n",
    "        \n",
    "        if np.abs(term) < tol:\n",
    "            return s\n",
    "\n",
    "fmt1 = '{:>5s}' + '{:>15s}'*4\n",
    "fmt2 = '{:5d}' + '{:15.5e}'*4\n",
    "\n",
    "print(fmt1.format('no', 'approx.', 'e_t', 'e_aa', 'e_ar'))       \n",
    "        \n",
    "x = 0.5\n",
    "print(exp(x), np.exp(x))"
   ]
  },
  {
   "cell_type": "markdown",
   "metadata": {},
   "source": [
    "## Roundoff Errors\n"
   ]
  },
  {
   "cell_type": "code",
   "execution_count": 14,
   "metadata": {},
   "outputs": [
    {
     "name": "stdout",
     "output_type": "stream",
     "text": [
      "0.010000000000000009\n"
     ]
    }
   ],
   "source": [
    "print(0.1 - 0.09)"
   ]
  },
  {
   "cell_type": "code",
   "execution_count": 15,
   "metadata": {},
   "outputs": [
    {
     "name": "stdout",
     "output_type": "stream",
     "text": [
      "0.9999999999980838\n"
     ]
    }
   ],
   "source": [
    "s = 0.0\n",
    "for i in range(100000):\n",
    "    s = s + 0.00001\n",
    "print(s)"
   ]
  },
  {
   "cell_type": "markdown",
   "metadata": {},
   "source": [
    "## Truncation Error\n",
    "\n",
    "$$f(x+h) \\approx f(x) + f'(x) h + \\frac{f''(x)}{2} h^2 + \\frac{f^{(3)}(x)}{3!} h^3 + \\cdots + \\frac{f^{(n)}(x)}{n!} h^n + R_n$$\n",
    "$$R_n = \\frac{f^{(n+1)}}{(n+1)!} h^{n+1}$$\n"
   ]
  },
  {
   "cell_type": "markdown",
   "metadata": {},
   "source": [
    "## Example 4.3\n",
    "\n",
    "$f(x) = \\cos(x)$, $x = \\pi/4$, $h = \\pi/3 - \\pi/4$\n",
    "\n",
    "$$  \\cos(x) = \\sum_{k=0}^{\\infty} (-1)^k \\frac{x^{2k}}{(2k)!} = 1 - \\frac{x^2}{2!} + \\frac{x^4}{4!} + \\cdots $$"
   ]
  },
  {
   "cell_type": "code",
   "execution_count": 16,
   "metadata": {},
   "outputs": [
    {
     "name": "stdout",
     "output_type": "stream",
     "text": [
      "   no        approx.            e_t           e_aa           e_ar\n",
      "    2    5.21987e-01    4.39733e-02    1.85120e-01    3.54645e-01\n",
      "    3    4.97754e-01    4.49102e-03    2.42322e-02    4.86830e-02\n",
      "    4    4.99869e-01    2.61706e-04    2.11466e-03    4.23042e-03\n",
      "    5    5.00008e-01    1.51016e-05    1.38404e-04    2.76804e-04\n",
      "    6    5.00000e-01    6.08001e-07    7.24681e-06    1.44936e-05\n",
      "    7    5.00000e-01    2.44027e-08    3.16202e-07    6.32404e-07\n"
     ]
    },
    {
     "data": {
      "image/png": "[encoded data removed]",
      "text/plain": [
       "<Figure size 432x288 with 1 Axes>"
      ]
     },
     "metadata": {
      "needs_background": "light"
     },
     "output_type": "display_data"
    }
   ],
   "source": [
    "x = np.linspace(0, np.pi/2)\n",
    "plt.plot(x, np.cos(x))\n",
    "\n",
    "x = np.pi/4\n",
    "h = np.pi/3 - x\n",
    "\n",
    "plt.plot(x, np.cos(x), 'o',  x+h, np.cos(x+h), 'o')\n",
    "\n",
    "true = np.cos(x+h)\n",
    "\n",
    "C, S = np.cos(x), np.sin(x)\n",
    "f = [C, -S, -C, S]\n",
    "\n",
    "p = C\n",
    "cc = 1\n",
    "hh = 1\n",
    "\n",
    "fmt1 = '{:>5s}' + '{:>15s}'*4\n",
    "fmt2 = '{:5d}' + '{:15.5e}'*4\n",
    "print(fmt1.format('no', 'approx.', 'e_t', 'e_aa', 'e_ar'))       \n",
    "\n",
    "for i in range(1, 10):\n",
    "    ff = f[i % 4]\n",
    "    cc *= i\n",
    "    hh *= h\n",
    "    term = ff/cc * hh\n",
    "    p += term\n",
    "    \n",
    "    e_t = np.abs((p - true)/true)\n",
    "    e_aa = np.abs(term)\n",
    "    e_ar = np.abs(term/p)\n",
    "    \n",
    "    print(fmt2.format(i+1, p, e_t, e_aa, e_ar))\n",
    "    \n",
    "    if e_ar < 1e-6:\n",
    "        break"
   ]
  },
  {
   "cell_type": "markdown",
   "metadata": {},
   "source": [
    "## Example 4.4\n",
    "\n",
    "$$f(x) = -0.1 x^4 - 0.15 x^3 -0.5 x^2 - 0.25 x + 1.2$$\n",
    "\n",
    "$$ \\frac{df}{dx} = -0.4 x^3 - 0.45 x^2 - 1 x - 0.25 $$\n",
    "\n",
    "Estimate the first derivative at $x = 0.5$, $h = 0.25$\n",
    "\n",
    "- forward difference\n",
    "$$ f'(x_i) = \\frac{f(x_{i+1}) - f(x_i)}{h} + O(h)$$\n",
    "- backward difference\n",
    "$$ f'(x_i) = \\frac{f(x_{i}) - f(x_{i-1})}{h} + O(h)$$\n",
    "- central difference\n",
    "$$ f'(x_i) = \\frac{f(x_{i+1}) - f(x_{i-1})}{2h} + O(h^2)$$\n",
    "\n"
   ]
  },
  {
   "cell_type": "code",
   "execution_count": 23,
   "metadata": {},
   "outputs": [
    {
     "data": {
      "image/png": "[encoded data removed]",
      "text/plain": [
       "<Figure size 432x288 with 1 Axes>"
      ]
     },
     "metadata": {
      "needs_background": "light"
     },
     "output_type": "display_data"
    }
   ],
   "source": [
    "import numpy as np\n",
    "import matplotlib.pyplot as plt\n",
    "\n",
    "p = np.poly1d([-0.1, -0.15, -0.5, -0.25, 1.2])\n",
    "\n",
    "x = np.linspace(0, 1, 100)\n",
    "y = np.polyval(p, x)\n",
    "plt.plot(x,y)\n",
    "\n",
    "dp = np.polyder(p)\n",
    "dy = np.polyval(dp, x)\n",
    "plt.plot(x, dy)\n",
    "\n",
    "plt.grid()\n",
    "plt.show()"
   ]
  },
  {
   "cell_type": "code",
   "execution_count": 27,
   "metadata": {},
   "outputs": [
    {
     "name": "stdout",
     "output_type": "stream",
     "text": [
      "forward difference         -0.92129    9.62751e-03\n",
      "backward difference        -0.90378   -9.55079e-03\n",
      "central difference         -0.91254    3.83562e-05\n"
     ]
    }
   ],
   "source": [
    "def f(x):\n",
    "    p = np.poly1d([-0.1, -0.15, -0.5, -0.25, 1.2])\n",
    "    return np.polyval(p, x)\n",
    "\n",
    "x = 0.5\n",
    "h = 0.01\n",
    "df_f = (f(x+h) - f(x))   / h\n",
    "df_b = (f(x)   - f(x-h)) / h\n",
    "df_c = (f(x+h) - f(x-h)) / (2*h)\n",
    "df = np.polyval(np.polyder(p), x)\n",
    "\n",
    "print(\"forward difference  {:15.5f}{:15.5e}\".format(df_f, (df_f - df)/df))\n",
    "print(\"backward difference {:15.5f}{:15.5e}\".format(df_b, (df_b - df)/df))\n",
    "print(\"central difference  {:15.5f}{:15.5e}\".format(df_c, (df_c - df)/df))"
   ]
  },
  {
   "cell_type": "markdown",
   "metadata": {},
   "source": [
    "## Example 4.5 Roundoff and Truncation Error in Numerical Differentiation"
   ]
  },
  {
   "cell_type": "code",
   "execution_count": 17,
   "metadata": {},
   "outputs": [
    {
     "data": {
      "image/png": "[encoded data removed]",
      "text/plain": [
       "<Figure size 432x288 with 1 Axes>"
      ]
     },
     "metadata": {
      "needs_background": "light"
     },
     "output_type": "display_data"
    }
   ],
   "source": [
    "x = 0.5\n",
    "p = np.poly1d([-0.1, -0.15, -0.5, -0.25, 1.2])\n",
    "df = np.polyval(np.polyder(p), x)\n",
    "\n",
    "def f(x):\n",
    "    return np.polyval(p, x)\n",
    "\n",
    "s = np.empty((40, 2))\n",
    "h = 1\n",
    "for i in range(40):\n",
    "    h = h/2\n",
    "    df_c = (f(x+h) - f(x + h)) / (2*h)\n",
    "    error = np.abs(df_c - df)\n",
    "    s[i] = [h, error]\n",
    "\n",
    "import matplotlib.pyplot as plt\n",
    "plt.loglog(s[:,0], s[:,1], 'o-')\n",
    "plt.title(\"Plots of error versus step size\")\n",
    "plt.xlabel(\"Step size\")\n",
    "plt.ylabel(\"Error\")\n",
    "plt.grid()\n",
    "plt.show()"
   ]
  },
  {
   "cell_type": "code",
   "execution_count": 28,
   "metadata": {},
   "outputs": [
    {
     "name": "stdout",
     "output_type": "stream",
     "text": [
      "1.1102230246251565e-16\n"
     ]
    }
   ],
   "source": [
    "# machine epsilon\n",
    "e = 1.0\n",
    "while 1 + e > 1.0:\n",
    "    e = e/2.\n",
    "print(e)     "
   ]
  },
  {
   "cell_type": "code",
   "execution_count": null,
   "metadata": {},
   "outputs": [],
   "source": []
  }
 ],
 "metadata": {
  "kernelspec": {
   "display_name": "Python 3",
   "language": "python",
   "name": "python3"
  },
  "language_info": {
   "codemirror_mode": {
    "name": "ipython",
    "version": 3
   },
   "file_extension": ".py",
   "mimetype": "text/x-python",
   "name": "python",
   "nbconvert_exporter": "python",
   "pygments_lexer": "ipython3",
   "version": "3.7.10"
  }
 },
 "nbformat": 4,
 "nbformat_minor": 2
}
