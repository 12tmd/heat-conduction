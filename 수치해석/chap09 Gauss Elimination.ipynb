{
 "cells": [
  {
   "cell_type": "markdown",
   "metadata": {},
   "source": [
    "# Chapter 9 Gauss Elimination"
   ]
  },
  {
   "cell_type": "code",
   "execution_count": 1,
   "metadata": {},
   "outputs": [],
   "source": [
    "import numpy as np"
   ]
  },
  {
   "cell_type": "code",
   "execution_count": 2,
   "metadata": {},
   "outputs": [],
   "source": [
    "def gauss_naive(a, b):\n",
    "    \"\"\"\n",
    "    a x = b   a.shape = (n, n), b.shape = (n, 1)\n",
    "    \"\"\"\n",
    "    #a = np.array(a, dtype=np.float64)\n",
    "    #b = np.array(b, dtype=np.float64)\n",
    "#     b = b.copy()\n",
    "    n = len(b)\n",
    "    # forward elimination\n",
    "    for k in range(n - 1):\n",
    "        for i in range(k+1, n):\n",
    "            f = a[i, k]/a[k, k]\n",
    "            a[i, k+1:] -= f*a[k, k+1:]\n",
    "            b[i] -= f*b[k]\n",
    "    # backward substitution    \n",
    "    for k in reversed(range(n)):\n",
    "        b[k] = (b[k] - np.dot(a[k, k+1:], b[k+1:]))/a[k, k]\n",
    "    return b"
   ]
  },
  {
   "cell_type": "code",
   "execution_count": 4,
   "metadata": {},
   "outputs": [
    {
     "data": {
      "text/plain": [
       "array([ 3. , -2.5,  7. ])"
      ]
     },
     "execution_count": 4,
     "metadata": {},
     "output_type": "execute_result"
    }
   ],
   "source": [
    "# Example 9.3\n",
    "A = np.array([[3, -0.1, -0.2], [0.1, 7, -0.3], [0.3, -0.2, 10]])\n",
    "b = np.array([7.85, -19.3, 71.4])\n",
    "gauss_naive(A, b)"
   ]
  },
  {
   "cell_type": "code",
   "execution_count": 13,
   "metadata": {},
   "outputs": [
    {
     "ename": "IndentationError",
     "evalue": "unindent does not match any outer indentation level (<tokenize>, line 12)",
     "output_type": "error",
     "traceback": [
      "\u001b[1;36m  File \u001b[1;32m\"<tokenize>\"\u001b[1;36m, line \u001b[1;32m12\u001b[0m\n\u001b[1;33m    if n % 2 == 1:\u001b[0m\n\u001b[1;37m    ^\u001b[0m\n\u001b[1;31mIndentationError\u001b[0m\u001b[1;31m:\u001b[0m unindent does not match any outer indentation level\n"
     ]
    }
   ],
   "source": [
    "# def simp13(f, h):\n",
    "#     \"\"\" n = len(f) must be odd \"\"\"\n",
    "#     s = h/3*(f[0] + f[-1] + 4*np.sum(f[1:-1:2]) + 2*np.sum(f[2:-1:2]))\n",
    "#     return s\n",
    "\n",
    "def _sim13(f, h):\n",
    "       \n",
    "        f0, f1 = f[::2], f[1::2]\n",
    "        return np.sum(h/3*(f0[:-1] + 4*f1 + f0[1:]))\n",
    "    \n",
    "   \n",
    "    if n % 2 == 1:\n",
    "        return _sim13(f, h)\n",
    "    else:\n",
    "        s = _sim13(f[:n-3], h)\n",
    "        f0, f1, f2, f3 = f[-4:]\n",
    "        return s + 3*h*(f0 + 3*f1 + 3*f2 + f3)/8\n",
    "    \n",
    "def fun(x):\n",
    "    return np.sin(x)\n",
    "\n",
    "a, b = 0, np.pi\n",
    "n = 21\n",
    "x = np.linspace(a, b, n)\n",
    "h = (b - a)/(n - 1)\n",
    "f = fun(x)\n",
    "\n",
    "I2 = _sim13(f, h)\n",
    "print(I2)"
   ]
  },
  {
   "cell_type": "code",
   "execution_count": 4,
   "metadata": {},
   "outputs": [
    {
     "data": {
      "text/plain": [
       "array([1., 1., 1., 1.])"
      ]
     },
     "execution_count": 4,
     "metadata": {},
     "output_type": "execute_result"
    }
   ],
   "source": [
    "n = 4\n",
    "a = np.empty((n,n))\n",
    "b = np.empty(n)\n",
    "        \n",
    "for i in range(n):\n",
    "    b[i] = ((i + 2.)**n - 1.)/(i + 1)\n",
    "    for j in range(n):\n",
    "        a[i,j] = (i + 2.)**j\n",
    "        \n",
    "x = gauss_naive(a, b)        \n",
    "x"
   ]
  },
  {
   "cell_type": "markdown",
   "metadata": {},
   "source": [
    "### Pivoting"
   ]
  },
  {
   "cell_type": "code",
   "execution_count": 5,
   "metadata": {},
   "outputs": [],
   "source": [
    "def gauss_pivot(a, b):\n",
    "    a = a.copy()\n",
    "    b = b.copy()\n",
    "    n = len(b)\n",
    "    # forward elimination\n",
    "    for k in range(n - 1):\n",
    "        \n",
    "        # partial pivot\n",
    "        i = k + np.argmax(a[k:, k])\n",
    "        a[[k, i]] = a[[i, k]]\n",
    "        b[[k, i]] = b[[i, k]]        \n",
    "        \n",
    "        for i in range(k + 1, n):\n",
    "            factor = a[i, k] / a[k, k]\n",
    "            a[i, k+1:] -= factor * a[k, k+1:]\n",
    "            b[i] -= factor * b[k]\n",
    "    # backward substitution    \n",
    "    for k in reversed(range(n)):\n",
    "        b[k] = (b[k] - np.dot(a[k, k+1:], b[k+1:])) / a[k, k]\n",
    "    return b"
   ]
  },
  {
   "cell_type": "code",
   "execution_count": 6,
   "metadata": {},
   "outputs": [
    {
     "name": "stdout",
     "output_type": "stream",
     "text": [
      "[1183.97560976  -20.90525328  -28.79737336] [1183.97560976  -20.90525328  -28.79737336]\n"
     ]
    }
   ],
   "source": [
    "a = np.array([[0, -0.1, -0.2], [0.1, 7, -0.3], [0.3, -0.2, 10]])\n",
    "b = np.array([7.85, -19.3, 71.4])\n",
    "x1 = np.linalg.solve(a, b)\n",
    "x2 = gauss_pivot(a, b)\n",
    "print(x1, x2)"
   ]
  },
  {
   "cell_type": "markdown",
   "metadata": {},
   "source": [
    "### Tridiagonal System"
   ]
  },
  {
   "cell_type": "code",
   "execution_count": 7,
   "metadata": {},
   "outputs": [],
   "source": [
    "def tdma(tri):\n",
    "    # tri-diagonal system\n",
    "    tri = np.copy(tri)\n",
    "    e, f, g, r = tri.T\n",
    "    n = len(f)\n",
    "    for k in range(1, n):\n",
    "        factor = e[k] / f[k - 1]\n",
    "        f[k] -= factor * g[k - 1]\n",
    "        r[k] -= factor * r[k - 1]\n",
    "    x = np.zeros_like(f)\n",
    "    x[-1] = r[-1] / f[-1]\n",
    "    for k in reversed(range(n-1)):\n",
    "        x[k] = (r[k] - g[k] * x[k+1]) / f[k]\n",
    "    return x"
   ]
  },
  {
   "cell_type": "code",
   "execution_count": 8,
   "metadata": {},
   "outputs": [
    {
     "data": {
      "text/plain": [
       "array([ 65.96983437,  93.77846211, 124.53822833, 159.47952369])"
      ]
     },
     "execution_count": 8,
     "metadata": {},
     "output_type": "execute_result"
    }
   ],
   "source": [
    "# example 9.5\n",
    "a = np.array([[0, 2.04, -1], [-1, 2.04, -1], [-1, 2.04, -1], [-1, 2.04, 0]])\n",
    "b = np.array([40.8, 0.8, 0.8, 200.8])\n",
    "# tri=np.hstack([a, b[:, np.newaxis]])\n",
    "tri = np.c_[a, b[:, np.newaxis]]\n",
    "tdma(tri)"
   ]
  },
  {
   "cell_type": "code",
   "execution_count": null,
   "metadata": {},
   "outputs": [],
   "source": []
  }
 ],
 "metadata": {
  "kernelspec": {
   "display_name": "Python 3",
   "language": "python",
   "name": "python3"
  },
  "language_info": {
   "codemirror_mode": {
    "name": "ipython",
    "version": 3
   },
   "file_extension": ".py",
   "mimetype": "text/x-python",
   "name": "python",
   "nbconvert_exporter": "python",
   "pygments_lexer": "ipython3",
   "version": "3.8.8"
  }
 },
 "nbformat": 4,
 "nbformat_minor": 2
}
